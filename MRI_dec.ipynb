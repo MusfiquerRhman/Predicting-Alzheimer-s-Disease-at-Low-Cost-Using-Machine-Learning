{
 "nbformat": 4,
 "nbformat_minor": 0,
 "metadata": {
  "colab": {
   "name": "MRI.ipynb",
   "provenance": [],
   "collapsed_sections": []
  },
  "kernelspec": {
   "display_name": "Python 3",
   "name": "python3"
  },
  "accelerator": "TPU"
 },
 "cells": [
  {
   "cell_type": "code",
   "metadata": {
    "id": "tYnDZs2seYMx",
    "is_executing": true
   },
   "source": [
    "import pandas as pd\n",
    "import numpy as np\n",
    "import seaborn as sns\n",
    "import matplotlib.pyplot as plt\n",
    "from sklearn.preprocessing import OneHotEncoder\n",
    "from sklearn.compose import ColumnTransformer\n",
    "from sklearn.metrics import classification_report, accuracy_score, precision_score\n",
    "from sklearn.model_selection import RandomizedSearchCV, GridSearchCV\n",
    "from sklearn.model_selection import train_test_split\n",
    "from sklearn.metrics import recall_score, f1_score, precision_score, accuracy_score\n",
    "from sklearn.ensemble import RandomForestClassifier\n",
    "from sklearn.naive_bayes import GaussianNB\n",
    "from sklearn.svm import LinearSVC\n",
    "from sklearn.neighbors import KNeighborsClassifier\n",
    "from sklearn.linear_model import LogisticRegression\n",
    "from sklearn.ensemble import AdaBoostClassifier\n",
    "from sklearn.metrics import confusion_matrix\n",
    "from sklearn.model_selection import StratifiedKFold"
   ],
   "execution_count": null,
   "outputs": []
  },
  {
   "cell_type": "code",
   "metadata": {
    "colab": {
     "base_uri": "https://localhost:8080/",
     "height": 424
    },
    "id": "areqPhRpV0dR",
    "outputId": "6eb1baec-a50a-4f7e-9cfb-61a0bcb00893",
    "is_executing": true
   },
   "source": [
    "alzheimer = pd.read_csv('/content/oasis_longitudinal.csv')\n",
    "alzheimer_Modified = alzheimer.drop(\"Subject ID\", axis = 1)\n",
    "alzheimer_Modified = alzheimer_Modified.drop(\"MRI ID\", axis = 1)\n",
    "alzheimer_Modified.dropna(inplace=True)\n",
    "alzheimer_Modified"
   ],
   "execution_count": null,
   "outputs": []
  },
  {
   "cell_type": "code",
   "metadata": {
    "colab": {
     "base_uri": "https://localhost:8080/",
     "height": 35
    },
    "id": "RKKnDn8nl-W0",
    "outputId": "ba1b0a7e-d128-4bdb-a0c5-dc74dd33d221",
    "is_executing": true
   },
   "source": [
    "'''for i, v in enumerate(alzheimer.Group):\n",
    "  if v == 'Converted':\n",
    "    print(i, v)\n",
    "    alzheimer.Group[i] = 'Demented'\n",
    "\n",
    "alzheimer_Modified'''"
   ],
   "execution_count": null,
   "outputs": []
  },
  {
   "cell_type": "code",
   "metadata": {
    "colab": {
     "base_uri": "https://localhost:8080/",
     "height": 204
    },
    "id": "RA3QIneqpqJd",
    "outputId": "b8b41909-8ffe-4e06-e09e-fc5a4ec73971",
    "is_executing": true
   },
   "source": [
    "pd.crosstab(alzheimer_Modified.CDR, alzheimer_Modified.Group)"
   ],
   "execution_count": null,
   "outputs": []
  },
  {
   "cell_type": "code",
   "metadata": {
    "id": "dalndy-6n0qe",
    "is_executing": true
   },
   "source": [
    "#alzheimer_Modified.describe()"
   ],
   "execution_count": null,
   "outputs": []
  },
  {
   "cell_type": "code",
   "metadata": {
    "id": "2qZqMH12nBQE",
    "is_executing": true
   },
   "source": [
    "#alzheimer_Modified[\"MMSE\"].value_counts()"
   ],
   "execution_count": null,
   "outputs": []
  },
  {
   "cell_type": "code",
   "metadata": {
    "id": "muafUokRne-n",
    "is_executing": true
   },
   "source": [
    "#alzheimer_Modified[\"SES\"].value_counts()"
   ],
   "execution_count": null,
   "outputs": []
  },
  {
   "cell_type": "code",
   "metadata": {
    "id": "jntvP-vfeEqa",
    "is_executing": true
   },
   "source": [
    "np.random.seed(42)\n",
    "x = alzheimer_Modified.drop(\"Group\", axis = 1)\n",
    "y = alzheimer_Modified[\"Group\"]"
   ],
   "execution_count": null,
   "outputs": []
  },
  {
   "cell_type": "code",
   "metadata": {
    "colab": {
     "base_uri": "https://localhost:8080/",
     "height": 424
    },
    "id": "fBoPs6XJdJ9p",
    "outputId": "75d98291-d02a-49b3-e593-995e9451d3d6",
    "is_executing": true
   },
   "source": [
    "features = ['M/F', 'Hand']\n",
    "one_hot = OneHotEncoder()\n",
    "transform = ColumnTransformer([('one_hot', one_hot, features)], remainder='passthrough')\n",
    "transfromed_X = transform.fit_transform(x)\n",
    "pd.DataFrame(transfromed_X)\n",
    "#df.rename('Female', 'Male', 'Hand', 'Visit', 'Age', 'Mr Delay', 'Age', 'Education', 'SES', 'MMSE', 'CDR', 'eTIV', 'nWBV', 'ASF')"
   ],
   "execution_count": null,
   "outputs": []
  },
  {
   "cell_type": "code",
   "metadata": {
    "id": "3T3OgMeLcn6L",
    "is_executing": true
   },
   "source": [],
   "execution_count": null,
   "outputs": []
  },
  {
   "cell_type": "code",
   "metadata": {
    "colab": {
     "base_uri": "https://localhost:8080/",
     "height": 52
    },
    "id": "uVovMjDHTDZF",
    "outputId": "ac3d6b31-1943-4821-dbfc-daa48ba9722f",
    "is_executing": true
   },
   "source": [
    "'''\n",
    "corr_matrix = alzheimer_Modified.corr()\n",
    "fig, ax = plt.subplots(figsize = (15, 10))\n",
    "ax = sns.heatmap(corr_matrix,\n",
    "                 annot = True,\n",
    "                 linewidths = .5,\n",
    "                 fmt = \".3f\",\n",
    "                 cmap = \"YlGnBu\")\n",
    "'''"
   ],
   "execution_count": null,
   "outputs": []
  },
  {
   "cell_type": "code",
   "metadata": {
    "colab": {
     "base_uri": "https://localhost:8080/",
     "height": 52
    },
    "id": "jWsTqMWgwIqo",
    "outputId": "1cec3b8b-a22e-45ab-8f26-4100171c5321",
    "is_executing": true
   },
   "source": [
    "'''corr_matrix = pd.DataFrame(transfromed_X).corr()\n",
    "fig, ax = plt.subplots(figsize = (15, 10))\n",
    "ax = sns.heatmap(corr_matrix,\n",
    "                 annot = True,\n",
    "                 linewidths = .5,\n",
    "                 fmt = \".3f\",\n",
    "                 cmap = \"YlGnBu\")'''"
   ],
   "execution_count": null,
   "outputs": []
  },
  {
   "cell_type": "code",
   "metadata": {
    "id": "B8D_TiO5p_Vh",
    "is_executing": true
   },
   "source": [
    "def evaluation_pred(y_true, y_pred):\n",
    "  accuracy = accuracy_score(y_true, y_pred)\n",
    "  precision = precision_score(y_true, y_pred,\n",
    "                              pos_label='positive',\n",
    "                              average='micro')\n",
    "  recall = recall_score(y_true, y_pred,\n",
    "                        pos_label='positive',\n",
    "                        average='micro')\n",
    "  f1 = f1_score(y_true, y_pred,\n",
    "                        pos_label='positive',\n",
    "                        average='micro')\n",
    "  martic_dict = {\"Accuracy\": round(accuracy, 2),\n",
    "                 \"precision\": round(precision, 2),\n",
    "                 \"recall\": round(recall, 2),\n",
    "                 \"f1\": round(f1, 2)}\n",
    "\n",
    "  print(f\"accuracy: {accuracy * 100:.2f}%\")\n",
    "  print(f\"percision {precision:.2f}\")\n",
    "  print(f\"recall {recall:.2f}\")\n",
    "  print(f\"f1: {f1:.02f}\")\n",
    "\n",
    "  return martic_dict"
   ],
   "execution_count": null,
   "outputs": []
  },
  {
   "cell_type": "code",
   "metadata": {
    "id": "HzDkJKLOfzmt",
    "is_executing": true
   },
   "source": [
    "import matplotlib.pyplot as plt\n",
    "from sklearn.metrics import roc_curve\n",
    "from sklearn.metrics import roc_auc_score\n",
    "def plot_roc_curve(fpr, tpr, name, val):\n",
    "  plt.plot(fpr, tpr, color = \"orange\", label=\"AUC ({})\".format(val))\n",
    "  plt.plot([0,1],[0,1], color = \"darkblue\",linestyle=\"--\",label=\"Guessing\")\n",
    "  plt.xlabel(\"False possitive rate\")\n",
    "  plt.ylabel(\"True possitive rate\")\n",
    "  plt.title(\"ROC Curve (With MRI data)\" + name)\n",
    "  plt.legend()\n",
    "  plt.show()"
   ],
   "execution_count": null,
   "outputs": []
  },
  {
   "cell_type": "code",
   "metadata": {
    "id": "7hNf4LOnaHcC",
    "is_executing": true
   },
   "source": [
    "x_train, x_test, y_train, y_test = train_test_split(transfromed_X, y, test_size=0.2)"
   ],
   "execution_count": null,
   "outputs": []
  },
  {
   "cell_type": "code",
   "metadata": {
    "id": "uJgmS2TlYp79",
    "is_executing": true
   },
   "source": [
    "#import pickle\n",
    "\n",
    "#pickle.dump(rs_clf, open(\"RandomForestCV\", \"wb\"))"
   ],
   "execution_count": null,
   "outputs": []
  },
  {
   "cell_type": "code",
   "metadata": {
    "colab": {
     "base_uri": "https://localhost:8080/"
    },
    "id": "9PB1kwO8_2-v",
    "outputId": "61959a95-172f-4859-cdea-924d0edad411",
    "is_executing": true
   },
   "source": [
    "parameters = {\n",
    "    'priors': [None],\n",
    "    'var_smoothing': [0.000000001, 0.0000001, 0.00001]\n",
    "}\n",
    "\n",
    "cv_gnb = GridSearchCV(estimator=GaussianNB(), param_grid=parameters, cv = 5, verbose=2  )\n",
    "cv_gnb.fit(x_train, y_train)\n",
    "y_pred_gnb = cv_gnb.predict(x_test)\n",
    "evaluation_pred(y_test, y_pred_gnb)"
   ],
   "execution_count": null,
   "outputs": []
  },
  {
   "cell_type": "code",
   "metadata": {
    "colab": {
     "base_uri": "https://localhost:8080/"
    },
    "id": "QI23GgvrAetu",
    "outputId": "a9cce225-155b-434d-e2de-6c57e9a1a487",
    "is_executing": true
   },
   "source": [
    "cv_gnb.best_params_"
   ],
   "execution_count": null,
   "outputs": []
  },
  {
   "cell_type": "code",
   "metadata": {
    "id": "NCa8uo1N7oZT",
    "is_executing": true
   },
   "source": [
    "import numpy as np\n",
    "from sklearn.preprocessing import StandardScaler\n",
    "from sklearn.svm import LinearSVC\n",
    "from sklearn.calibration import CalibratedClassifierCV"
   ],
   "execution_count": null,
   "outputs": []
  },
  {
   "cell_type": "code",
   "metadata": {
    "colab": {
     "base_uri": "https://localhost:8080/"
    },
    "id": "1PDXLmsbBIrP",
    "outputId": "4811a03a-41f9-4433-dc69-a6f556a2ad40",
    "is_executing": true
   },
   "source": [
    "import numpy as np\n",
    "from sklearn.preprocessing import StandardScaler\n",
    "from sklearn.svm import LinearSVC\n",
    "from sklearn.calibration import CalibratedClassifierCV\n",
    "\n",
    "param_grid = {'C': [10, 200, 400, 600], \n",
    "              'dual': [False, True],\n",
    "              'loss': ['squared_hinge','hinge'],\n",
    "              'tol': [.00001, .0001, .001],\n",
    "              'multi_class':['ovr']} \n",
    "\n",
    "cv_svm = GridSearchCV(estimator=LinearSVC(), param_grid=param_grid, cv = 5, verbose=2)\n",
    "cv_svm.fit(x_train, y_train)\n",
    "y_pred_gnb = cv_svm.predict(x_test)\n",
    "evaluation_pred(y_test, y_pred_gnb)"
   ],
   "execution_count": null,
   "outputs": []
  },
  {
   "cell_type": "code",
   "metadata": {
    "colab": {
     "base_uri": "https://localhost:8080/"
    },
    "id": "sdZvtvbuCwL-",
    "outputId": "c1f50f10-33f3-44f4-88b8-716d8497999e",
    "is_executing": true
   },
   "source": [
    "cv_svm.best_params_"
   ],
   "execution_count": null,
   "outputs": []
  },
  {
   "cell_type": "code",
   "metadata": {
    "colab": {
     "base_uri": "https://localhost:8080/"
    },
    "id": "ZWM3rRGI2ngJ",
    "outputId": "dd0ca0f1-764a-474c-d860-629e3145dfc9",
    "is_executing": true
   },
   "source": [
    "param_grid = {'C': [100,275,500],\n",
    "              'penalty': ['l2'], \n",
    "              'tol': [.000001],\n",
    "              'fit_intercept':[True],\n",
    "              'class_weight':['balanced'],\n",
    "              'solver':['liblinear']\n",
    "              }  \n",
    "cv_lr = GridSearchCV(estimator=LogisticRegression(), param_grid=param_grid, cv = 5, verbose=2)\n",
    "cv_lr.fit(x_train, y_train)\n",
    "y_pred_lr = cv_lr.predict(x_test)\n",
    "evaluation_pred(y_test, y_pred_lr)"
   ],
   "execution_count": null,
   "outputs": []
  },
  {
   "cell_type": "code",
   "metadata": {
    "colab": {
     "base_uri": "https://localhost:8080/"
    },
    "id": "OLuvVHkCDGcj",
    "outputId": "f8d564f4-a9a4-48d0-fdc5-64e53298f7c4",
    "is_executing": true
   },
   "source": [
    "cv_lr.best_params_"
   ],
   "execution_count": null,
   "outputs": []
  },
  {
   "cell_type": "code",
   "metadata": {
    "id": "c9j1oDwh8nLW",
    "is_executing": true
   },
   "source": [
    "def plot_conf_mat(y_test, y_pred_lr):\n",
    "  fig, ax = plt.subplots(figsize=(3,3))\n",
    "  ax = sns.heatmap(confusion_matrix(y_test, y_pred_lr),\n",
    "                   annot=True,\n",
    "                   cbar=False)\n",
    "  plt.xlabel(\"True Label\")\n",
    "  plt.ylabel(\"Predicted label\")\n",
    "  "
   ],
   "execution_count": null,
   "outputs": []
  },
  {
   "cell_type": "code",
   "metadata": {
    "colab": {
     "base_uri": "https://localhost:8080/",
     "height": 225
    },
    "id": "XxFqSmSh_J5G",
    "outputId": "d4e86d4b-580a-4562-d6f0-98e6d41dbca5",
    "is_executing": true
   },
   "source": [
    "plot_conf_mat(y_test, y_pred_lr)"
   ],
   "execution_count": null,
   "outputs": []
  },
  {
   "cell_type": "code",
   "metadata": {
    "colab": {
     "base_uri": "https://localhost:8080/"
    },
    "id": "ylnWF_PWbhTX",
    "outputId": "0c89d105-19b1-4906-d6cd-513040401c70",
    "is_executing": true
   },
   "source": [
    "cv_ad.best_params_"
   ],
   "execution_count": null,
   "outputs": []
  },
  {
   "cell_type": "code",
   "metadata": {
    "colab": {
     "base_uri": "https://localhost:8080/"
    },
    "id": "YDRwqtzOtvbx",
    "outputId": "60494fb5-4175-4044-ef14-711586d818d3",
    "is_executing": true
   },
   "source": [
    "turfc = RandomForestClassifier(bootstrap=True, ccp_alpha=0.0, class_weight=None,\n",
    "                                                criterion='gini', max_depth=10, max_features='auto',\n",
    "                                                max_leaf_nodes=None, max_samples=None,\n",
    "                                                min_impurity_decrease=0.0, min_impurity_split=None,\n",
    "                                                min_samples_leaf=1, min_samples_split=4,\n",
    "                                                min_weight_fraction_leaf=0.0, n_estimators=10,\n",
    "                                                n_jobs=None, oob_score=False, random_state=None,\n",
    "                                                verbose=0, warm_start=False)\n",
    "\n",
    "turfc.fit(x_train, y_train)\n",
    "y_pred_lr = turfc.predict(x_test)\n",
    "evaluation_pred(y_test, y_pred_lr)"
   ],
   "execution_count": null,
   "outputs": []
  },
  {
   "cell_type": "code",
   "metadata": {
    "colab": {
     "base_uri": "https://localhost:8080/"
    },
    "id": "TRDvNF8ht5-B",
    "outputId": "987d5b73-8e5e-4429-fae5-21f42b440d0a",
    "is_executing": true
   },
   "source": [
    "param_grid = {'n_neighbors': [10],\n",
    "              'weights': ['distance'],\n",
    "              'algorithm':['auto'],\n",
    "              'leaf_size': [10],\n",
    "              'p':[1,2],\n",
    "              'metric':['manhattan'],\n",
    "              'n_jobs':[-1]}\n",
    "\n",
    "cv_kn = GridSearchCV(estimator=KNeighborsClassifier(), param_grid=param_grid, cv = 5, verbose=2)\n",
    "cv_kn.fit(x_train, y_train)\n",
    "y_pred_lr = cv_kn.predict(x_test)\n",
    "evaluation_pred(y_test, y_pred_lr)"
   ],
   "execution_count": null,
   "outputs": []
  },
  {
   "cell_type": "code",
   "metadata": {
    "colab": {
     "base_uri": "https://localhost:8080/"
    },
    "id": "7wXAaP5pll4T",
    "outputId": "bb263827-accf-4392-bbae-0705df4ba775",
    "is_executing": true
   },
   "source": [
    "cv_kn.best_params_"
   ],
   "execution_count": null,
   "outputs": []
  },
  {
   "cell_type": "code",
   "metadata": {
    "colab": {
     "base_uri": "https://localhost:8080/"
    },
    "id": "poOq3lfJ53-7",
    "outputId": "16e855b7-e275-406f-fe2c-a88bf9b56f02",
    "is_executing": true
   },
   "source": [
    "grid = {\n",
    "    \"n_estimators\": [20, 200, 500],\n",
    "    \"max_depth\": [None, 3, 10, 20],\n",
    "    \"max_features\": [\"auto\"],\n",
    "    \"min_samples_split\": [2, 5, 10],\n",
    "    \"min_samples_leaf\": [12, 5, 10],\n",
    "    'criterion':['gini'],\n",
    "}\n",
    "clf = RandomForestClassifier(n_jobs=1)\n",
    "\n",
    "rs_clf = GridSearchCV(estimator=clf,\n",
    "                      param_grid = grid,\n",
    "                      cv = 10,\n",
    "                      verbose = 2)\n",
    "\n",
    "rs_clf.fit(x_train, y_train)\n",
    "rs_clf.fit(x_train, y_train)\n",
    "y_pred_lr = rs_clf.predict(x_test)\n",
    "evaluation_pred(y_test, y_pred_lr)"
   ],
   "execution_count": null,
   "outputs": []
  },
  {
   "cell_type": "code",
   "metadata": {
    "colab": {
     "base_uri": "https://localhost:8080/"
    },
    "id": "u6JXLOK47uxb",
    "outputId": "a88b00c5-a4e5-401e-da66-ebe32fca42d6",
    "is_executing": true
   },
   "source": [
    "rs_clf.best_params_"
   ],
   "execution_count": null,
   "outputs": []
  },
  {
   "cell_type": "code",
   "metadata": {
    "colab": {
     "base_uri": "https://localhost:8080/"
    },
    "id": "D2FQ6ra2StVm",
    "outputId": "ae01b6ce-ed6f-40d8-c117-9ee7be9ce5c1",
    "is_executing": true
   },
   "source": [
    "rs_clf = RandomForestClassifier( max_depth = 10,\n",
    "                              max_features= 'auto',\n",
    "                              min_samples_leaf= 5,\n",
    "                              min_samples_split= 10,\n",
    "                              n_estimators= 10,\n",
    "                              criterion='gini')\n",
    "\n",
    "gnb = GaussianNB(priors= None, var_smoothing= 1e-08)\n",
    "cv_svm = LinearSVC(C= 200,\n",
    "                dual= False,\n",
    "                loss= 'squared_hinge',\n",
    "                multi_class= 'ovr',\n",
    "                tol= 1e-05)\n",
    "cv_lr= LogisticRegression(C= 225,\n",
    "                      class_weight= 'balanced',\n",
    "                      fit_intercept= True,\n",
    "                      penalty= 'l2',\n",
    "                      solver= 'liblinear',\n",
    "                      tol= 1e-06)\n",
    "cv_kn = KNeighborsClassifier()\n",
    "Ada = AdaBoostClassifier()\n",
    "\n",
    "param_grid = {'base_estimator':[rs_clf,cv_lr,cv_svm],\n",
    "              'n_estimators': [100, 700, 1200],\n",
    "              'algorithm':['SAMME']\n",
    "              } \n",
    "cv_ad = GridSearchCV(estimator=AdaBoostClassifier(), param_grid=param_grid, cv = 5, verbose=2)\n",
    "cv_ad.fit(x_train, y_train)\n",
    "y_pred_lr = cv_ad.predict(x_test)\n",
    "evaluation_pred(y_test, y_pred_lr)\n",
    "\n",
    "confusion_matrix(y_test, y_pred_lr)"
   ],
   "execution_count": null,
   "outputs": []
  },
  {
   "cell_type": "code",
   "metadata": {
    "id": "pNhZa5PvdKki",
    "colab": {
     "base_uri": "https://localhost:8080/"
    },
    "outputId": "65866e36-adcb-4f0b-b8e3-5ffd08788b9c",
    "is_executing": true
   },
   "source": [
    "cv_ad.best_params_"
   ],
   "execution_count": null,
   "outputs": []
  },
  {
   "cell_type": "code",
   "metadata": {
    "id": "39QYSyl25qx8",
    "colab": {
     "base_uri": "https://localhost:8080/"
    },
    "outputId": "b1ef3667-bf90-40fe-e1c5-2337f908064c",
    "is_executing": true
   },
   "source": [
    "models = {\n",
    "    \"Random Forest\": RandomForestClassifier(),\n",
    "    \"GaussianNB\": GaussianNB(),\n",
    "    \"Linear SVC\": LinearSVC(max_iter=1000000, dual = True),\n",
    "    \"K Neighbours Classifier\": KNeighborsClassifier(),\n",
    "    \"Logistic Regression\": LogisticRegression(),\n",
    "    \"Ada Boost\": AdaBoostClassifier()\n",
    "}\n",
    "\n",
    "def fitAndScore(models, x_train, x_test, y_train, y_test):\n",
    "  np.random.seed(42)\n",
    "  scores = {}\n",
    "  for name, model in models.items():\n",
    "    model.fit(x_train, y_train)\n",
    "    scores[name] = model.score(x_test, y_test)\n",
    "    print(name)\n",
    "    y_preds = model.predict(x_test)\n",
    "    evaluation_pred(y_test, y_preds)\n",
    "  return scores\n",
    "\n",
    "model_scores = fitAndScore(models=models,x_train=x_train,x_test=x_test,y_train=y_train,y_test=y_test)\n",
    "model_scores"
   ],
   "execution_count": null,
   "outputs": []
  },
  {
   "cell_type": "markdown",
   "metadata": {
    "id": "cvIQR8E2hoJt"
   },
   "source": []
  },
  {
   "cell_type": "code",
   "metadata": {
    "colab": {
     "base_uri": "https://localhost:8080/",
     "height": 1000
    },
    "id": "WV1aBn7qmQXC",
    "outputId": "f090ffbf-82d3-43c6-c942-5d5eab095e06",
    "is_executing": true
   },
   "source": [
    "models = {\n",
    "    \"Random Forest\": rs_clf,\n",
    "    \"GaussianNB\": cv_gnb,\n",
    "    \"Linear SVC\": cv_svm,\n",
    "    \"K Neighbours Classifier\": cv_kn,\n",
    "    \"Logistic Regression\": cv_lr,\n",
    "    \"Ada Boost\": cv_ad\n",
    "}\n",
    "def fitAndScore(models, x_train, x_test, y_train, y_test):\n",
    "  np.random.seed(42)\n",
    "  scores = {}\n",
    "  for name, model in models.items():\n",
    "    model.fit(x_train, y_train)\n",
    "    scores[name] = model.score(x_test, y_test)\n",
    "    print(name)\n",
    "    y_preds = model.predict(x_test)\n",
    "    evaluation_pred(y_test, y_preds)\n",
    "  return scores\n",
    "\n",
    "model_scores = fitAndScore(models=models,x_train=x_train,x_test=x_test,y_train=y_train,y_test=y_test)\n",
    "model_scores"
   ],
   "execution_count": null,
   "outputs": []
  },
  {
   "cell_type": "code",
   "metadata": {
    "id": "dXVpWnUjzPbO",
    "is_executing": true
   },
   "source": [
    "from sklearn.feature_selection import SelectFromModel\n",
    "\n",
    "clf = rs_clf\n",
    "gnb = gnb\n",
    "lsvc = cv_svm\n",
    "lg =  cv_lr\n",
    "adb =  cv_ad"
   ],
   "execution_count": null,
   "outputs": []
  },
  {
   "cell_type": "code",
   "metadata": {
    "id": "0QHT1UeH_nyW",
    "colab": {
     "base_uri": "https://localhost:8080/",
     "height": 295
    },
    "outputId": "8875b07f-ad2d-440c-96bd-01e93e906d23",
    "is_executing": true
   },
   "source": [
    "clf.fit(x_train, y_train)\n",
    "y_prob = clf.predict_proba(x_test)\n",
    "y_prob_pos = y_prob[:, 1]\n",
    "fpr, tpr, threshold = roc_curve(y_test, y_prob_pos, pos_label='Demented')\n",
    "val = roc_auc_score(y_test, y_prob, multi_class='ovr')\n",
    "plot_roc_curve(fpr,tpr, 'Random Forest Classifier', val)"
   ],
   "execution_count": null,
   "outputs": []
  },
  {
   "cell_type": "code",
   "metadata": {
    "id": "KtVIKCaVJ1Ka",
    "colab": {
     "base_uri": "https://localhost:8080/",
     "height": 295
    },
    "outputId": "e98dd197-c55e-4bc3-83f9-66ff47df31df",
    "is_executing": true
   },
   "source": [
    "gnb.fit(x_train, y_train)\n",
    "y_prob = gnb.predict_proba(x_test)\n",
    "y_prob_pos = y_prob[:, 1]\n",
    "fpr, tpr, threshold = roc_curve(y_test, y_prob_pos, pos_label='Demented')\n",
    "val = roc_auc_score(y_test, y_prob, multi_class='ovr')\n",
    "plot_roc_curve(fpr,tpr, 'GaussianNB', val)"
   ],
   "execution_count": null,
   "outputs": []
  },
  {
   "cell_type": "code",
   "metadata": {
    "id": "lxMuZG01J80o",
    "colab": {
     "base_uri": "https://localhost:8080/",
     "height": 295
    },
    "outputId": "8bde835d-8fa2-45b2-8fc9-a61a06c90901",
    "is_executing": true
   },
   "source": [
    "#x_train, x_test, y_train, y_test = train_test_split(transfromed_X, y, test_size=0.2)\n",
    "lg.fit(x_train, y_train)\n",
    "y_prob = lg.predict_proba(x_test)\n",
    "y_prob_pos = y_prob[:, 1]\n",
    "fpr, tpr, threshold = roc_curve(y_test, y_prob_pos, pos_label='Demented')\n",
    "val = roc_auc_score(y_test, y_prob, multi_class='ovr')\n",
    "plot_roc_curve(fpr,tpr, 'Logistic Regression', val)"
   ],
   "execution_count": null,
   "outputs": []
  },
  {
   "cell_type": "code",
   "metadata": {
    "id": "WX3WM2qOKCLo",
    "colab": {
     "base_uri": "https://localhost:8080/",
     "height": 1000
    },
    "outputId": "e7c54813-fe4d-4540-9143-a3a8bbde2623",
    "is_executing": true
   },
   "source": [
    "#x_train, x_test, y_train, y_test = train_test_split(transfromed_X, y, test_size=0.2)\n",
    "adb.fit(x_train, y_train)\n",
    "y_prob = adb.predict_proba(x_test)\n",
    "y_prob_pos = y_prob[:, 1]\n",
    "fpr, tpr, threshold = roc_curve(y_test, y_prob_pos, pos_label='Demented')\n",
    "val = roc_auc_score(y_test, y_prob, multi_class='ovr')\n",
    "plot_roc_curve(fpr,tpr, 'AdaBoost Classifier', val)"
   ],
   "execution_count": null,
   "outputs": []
  },
  {
   "cell_type": "code",
   "metadata": {
    "id": "6b_nqN5Wgx0-",
    "colab": {
     "base_uri": "https://localhost:8080/",
     "height": 295
    },
    "outputId": "973ea836-47d3-4595-e63d-9d302b8b09be",
    "is_executing": true
   },
   "source": [
    "cclf = CalibratedClassifierCV(base_estimator=LinearSVC(C= 500,\n",
    "                dual= False,\n",
    "                loss= 'squared_hinge',\n",
    "                multi_class= 'ovr',\n",
    "                tol= 1e-08), cv=5)\n",
    "cclf.fit(x_train, y_train)\n",
    "y_prob = cclf.predict_proba(x_test)\n",
    "y_prob_pos = y_prob[:, 1]\n",
    "fpr, tpr, threshold = roc_curve(y_test, y_prob_pos, pos_label='Demented')\n",
    "val = roc_auc_score(y_test, y_prob, multi_class='ovr')\n",
    "plot_roc_curve(fpr,tpr, 'Linear SVC', val)"
   ],
   "execution_count": null,
   "outputs": []
  },
  {
   "cell_type": "code",
   "metadata": {
    "id": "5aotUdcY0gt3",
    "is_executing": true
   },
   "source": [
    "#fr_df = pd.DataFrame(features_dict, index=[0])\n",
    "#alzheimer_Modified.T.plot.bar(title=\"Importance\", legend= False)"
   ],
   "execution_count": null,
   "outputs": []
  },
  {
   "cell_type": "code",
   "metadata": {
    "id": "cBe2RWsqmHbj",
    "is_executing": true
   },
   "source": [
    "from sklearn.ensemble import VotingClassifier\n",
    "from sklearn.svm import SVC\n",
    "\n",
    "model = VotingClassifier(estimators=[('clf', clf), ('adb', Ada), ('lg', LG), ('svc', cclf)], voting='soft')\n",
    "model.fit(x_train,y_train)\n",
    "hybrid_score = model.score(x_test,y_test)\n",
    "m_pred_y = model.predict(x_test)\n",
    "evaluation_pred(y_test, m_pred_y)\n",
    "hybrid_score"
   ],
   "execution_count": null,
   "outputs": []
  },
  {
   "cell_type": "code",
   "metadata": {
    "id": "ur1ZTO32Ps2F",
    "is_executing": true
   },
   "source": [
    "model.fit(x_train, y_train)\n",
    "y_prob = model.predict_proba(x_test)\n",
    "y_prob_pos = y_prob[:, 1]\n",
    "fpr, tpr, threshold = roc_curve(y_test, y_prob_pos, pos_label='Demented')\n",
    "val = roc_auc_score(y_test, y_prob, multi_class='ovr')\n",
    "plot_roc_curve(fpr,tpr, 'Hybrid', val)"
   ],
   "execution_count": null,
   "outputs": []
  },
  {
   "cell_type": "code",
   "metadata": {
    "id": "-Gluizzky5K9",
    "is_executing": true
   },
   "source": [
    "model_scores['hybrid'] = hybrid_score\n",
    "model_compare = pd.DataFrame(model_scores, index=['accuracy'])\n",
    "model_compare.T.plot(kind='barh')"
   ],
   "execution_count": null,
   "outputs": []
  }
 ]
}
