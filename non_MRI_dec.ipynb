{
  "nbformat": 4,
  "nbformat_minor": 0,
  "metadata": {
    "accelerator": "TPU",
    "colab": {
      "name": "non-MRI.ipynb",
      "provenance": [],
      "collapsed_sections": []
    },
    "kernelspec": {
      "display_name": "Python 3",
      "name": "python3"
    }
  },
  "cells": [
    {
      "cell_type": "markdown",
      "metadata": {
        "id": "NKw4RgMN5Yxe"
      },
      "source": [
        "# **Predicting Alzheimers Disease**"
      ]
    },
    {
      "cell_type": "code",
      "metadata": {
        "id": "tYnDZs2seYMx"
      },
      "source": [
        "import pandas as pd\n",
        "from sklearn.preprocessing import OneHotEncoder\n",
        "from sklearn.compose import ColumnTransformer\n",
        "from sklearn.metrics import classification_report, accuracy_score, precision_score\n",
        "import numpy as np\n",
        "from sklearn.model_selection import RandomizedSearchCV, GridSearchCV\n",
        "from sklearn.model_selection import train_test_split\n",
        "from sklearn.metrics import recall_score, f1_score, precision_score, accuracy_score\n",
        "from sklearn.ensemble import RandomForestClassifier\n",
        "from sklearn.naive_bayes import GaussianNB\n",
        "from sklearn.svm import LinearSVC\n",
        "from sklearn.neighbors import KNeighborsClassifier\n",
        "from sklearn.linear_model import LogisticRegression\n",
        "from sklearn.ensemble import AdaBoostClassifier\n",
        "from sklearn.metrics import confusion_matrix"
      ],
      "execution_count": null,
      "outputs": []
    },
    {
      "cell_type": "markdown",
      "metadata": {
        "id": "O-JDBb765yj1"
      },
      "source": [
        "Drop Unnecessary columns"
      ]
    },
    {
      "cell_type": "code",
      "metadata": {
        "colab": {
          "base_uri": "https://localhost:8080/",
          "height": 424
        },
        "id": "areqPhRpV0dR",
        "outputId": "666e7793-c869-4e42-f1bd-6b7eb1d78b16"
      },
      "source": [
        "alzheimer = pd.read_csv('/content/oasis_longitudinal.csv')\n",
        "#alzheimer = alzheimer.replace('Converted','Demented')\n",
        "alzheimer_Modified = alzheimer.drop(\"Subject ID\", axis = 1)\n",
        "alzheimer_Modified = alzheimer_Modified.drop(\"MRI ID\", axis = 1)\n",
        "alzheimer_Modified = alzheimer_Modified.drop(\"eTIV\", axis = 1)\n",
        "alzheimer_Modified = alzheimer_Modified.drop(\"nWBV\", axis = 1)\n",
        "alzheimer_Modified = alzheimer_Modified.drop(\"ASF\", axis = 1)\n",
        "alzheimer_Modified = alzheimer_Modified.drop(\"MR Delay\", axis = 1)\n",
        "alzheimer_Modified.dropna(inplace=True)\n",
        "alzheimer_Modified"
      ],
      "execution_count": null,
      "outputs": [
        {
          "output_type": "execute_result",
          "data": {
            "text/html": [
              "<div>\n",
              "<style scoped>\n",
              "    .dataframe tbody tr th:only-of-type {\n",
              "        vertical-align: middle;\n",
              "    }\n",
              "\n",
              "    .dataframe tbody tr th {\n",
              "        vertical-align: top;\n",
              "    }\n",
              "\n",
              "    .dataframe thead th {\n",
              "        text-align: right;\n",
              "    }\n",
              "</style>\n",
              "<table border=\"1\" class=\"dataframe\">\n",
              "  <thead>\n",
              "    <tr style=\"text-align: right;\">\n",
              "      <th></th>\n",
              "      <th>Group</th>\n",
              "      <th>Visit</th>\n",
              "      <th>M/F</th>\n",
              "      <th>Hand</th>\n",
              "      <th>Age</th>\n",
              "      <th>EDUC</th>\n",
              "      <th>SES</th>\n",
              "      <th>MMSE</th>\n",
              "      <th>CDR</th>\n",
              "    </tr>\n",
              "  </thead>\n",
              "  <tbody>\n",
              "    <tr>\n",
              "      <th>0</th>\n",
              "      <td>Nondemented</td>\n",
              "      <td>1</td>\n",
              "      <td>M</td>\n",
              "      <td>R</td>\n",
              "      <td>87</td>\n",
              "      <td>14</td>\n",
              "      <td>2.0</td>\n",
              "      <td>27.0</td>\n",
              "      <td>0.0</td>\n",
              "    </tr>\n",
              "    <tr>\n",
              "      <th>1</th>\n",
              "      <td>Nondemented</td>\n",
              "      <td>2</td>\n",
              "      <td>M</td>\n",
              "      <td>R</td>\n",
              "      <td>88</td>\n",
              "      <td>14</td>\n",
              "      <td>2.0</td>\n",
              "      <td>30.0</td>\n",
              "      <td>0.0</td>\n",
              "    </tr>\n",
              "    <tr>\n",
              "      <th>5</th>\n",
              "      <td>Nondemented</td>\n",
              "      <td>1</td>\n",
              "      <td>F</td>\n",
              "      <td>R</td>\n",
              "      <td>88</td>\n",
              "      <td>18</td>\n",
              "      <td>3.0</td>\n",
              "      <td>28.0</td>\n",
              "      <td>0.0</td>\n",
              "    </tr>\n",
              "    <tr>\n",
              "      <th>6</th>\n",
              "      <td>Nondemented</td>\n",
              "      <td>2</td>\n",
              "      <td>F</td>\n",
              "      <td>R</td>\n",
              "      <td>90</td>\n",
              "      <td>18</td>\n",
              "      <td>3.0</td>\n",
              "      <td>27.0</td>\n",
              "      <td>0.0</td>\n",
              "    </tr>\n",
              "    <tr>\n",
              "      <th>7</th>\n",
              "      <td>Nondemented</td>\n",
              "      <td>1</td>\n",
              "      <td>M</td>\n",
              "      <td>R</td>\n",
              "      <td>80</td>\n",
              "      <td>12</td>\n",
              "      <td>4.0</td>\n",
              "      <td>28.0</td>\n",
              "      <td>0.0</td>\n",
              "    </tr>\n",
              "    <tr>\n",
              "      <th>...</th>\n",
              "      <td>...</td>\n",
              "      <td>...</td>\n",
              "      <td>...</td>\n",
              "      <td>...</td>\n",
              "      <td>...</td>\n",
              "      <td>...</td>\n",
              "      <td>...</td>\n",
              "      <td>...</td>\n",
              "      <td>...</td>\n",
              "    </tr>\n",
              "    <tr>\n",
              "      <th>368</th>\n",
              "      <td>Demented</td>\n",
              "      <td>2</td>\n",
              "      <td>M</td>\n",
              "      <td>R</td>\n",
              "      <td>82</td>\n",
              "      <td>16</td>\n",
              "      <td>1.0</td>\n",
              "      <td>28.0</td>\n",
              "      <td>0.5</td>\n",
              "    </tr>\n",
              "    <tr>\n",
              "      <th>369</th>\n",
              "      <td>Demented</td>\n",
              "      <td>3</td>\n",
              "      <td>M</td>\n",
              "      <td>R</td>\n",
              "      <td>86</td>\n",
              "      <td>16</td>\n",
              "      <td>1.0</td>\n",
              "      <td>26.0</td>\n",
              "      <td>0.5</td>\n",
              "    </tr>\n",
              "    <tr>\n",
              "      <th>370</th>\n",
              "      <td>Nondemented</td>\n",
              "      <td>1</td>\n",
              "      <td>F</td>\n",
              "      <td>R</td>\n",
              "      <td>61</td>\n",
              "      <td>13</td>\n",
              "      <td>2.0</td>\n",
              "      <td>30.0</td>\n",
              "      <td>0.0</td>\n",
              "    </tr>\n",
              "    <tr>\n",
              "      <th>371</th>\n",
              "      <td>Nondemented</td>\n",
              "      <td>2</td>\n",
              "      <td>F</td>\n",
              "      <td>R</td>\n",
              "      <td>63</td>\n",
              "      <td>13</td>\n",
              "      <td>2.0</td>\n",
              "      <td>30.0</td>\n",
              "      <td>0.0</td>\n",
              "    </tr>\n",
              "    <tr>\n",
              "      <th>372</th>\n",
              "      <td>Nondemented</td>\n",
              "      <td>3</td>\n",
              "      <td>F</td>\n",
              "      <td>R</td>\n",
              "      <td>65</td>\n",
              "      <td>13</td>\n",
              "      <td>2.0</td>\n",
              "      <td>30.0</td>\n",
              "      <td>0.0</td>\n",
              "    </tr>\n",
              "  </tbody>\n",
              "</table>\n",
              "<p>354 rows × 9 columns</p>\n",
              "</div>"
            ],
            "text/plain": [
              "           Group  Visit M/F Hand  Age  EDUC  SES  MMSE  CDR\n",
              "0    Nondemented      1   M    R   87    14  2.0  27.0  0.0\n",
              "1    Nondemented      2   M    R   88    14  2.0  30.0  0.0\n",
              "5    Nondemented      1   F    R   88    18  3.0  28.0  0.0\n",
              "6    Nondemented      2   F    R   90    18  3.0  27.0  0.0\n",
              "7    Nondemented      1   M    R   80    12  4.0  28.0  0.0\n",
              "..           ...    ...  ..  ...  ...   ...  ...   ...  ...\n",
              "368     Demented      2   M    R   82    16  1.0  28.0  0.5\n",
              "369     Demented      3   M    R   86    16  1.0  26.0  0.5\n",
              "370  Nondemented      1   F    R   61    13  2.0  30.0  0.0\n",
              "371  Nondemented      2   F    R   63    13  2.0  30.0  0.0\n",
              "372  Nondemented      3   F    R   65    13  2.0  30.0  0.0\n",
              "\n",
              "[354 rows x 9 columns]"
            ]
          },
          "metadata": {},
          "execution_count": 2
        }
      ]
    },
    {
      "cell_type": "markdown",
      "metadata": {
        "id": "nwJA1rCK7Eb-"
      },
      "source": [
        "Define Predictor Variable(x) and Target Variable(y)"
      ]
    },
    {
      "cell_type": "code",
      "metadata": {
        "id": "jntvP-vfeEqa"
      },
      "source": [
        "np.random.seed(42)\n",
        "x = alzheimer_Modified.drop(\"Group\", axis = 1)\n",
        "y = alzheimer_Modified[\"Group\"]"
      ],
      "execution_count": null,
      "outputs": []
    },
    {
      "cell_type": "markdown",
      "metadata": {
        "id": "DCMy6yWW7Hu-"
      },
      "source": [
        "Encode Data with one hot encoder"
      ]
    },
    {
      "cell_type": "code",
      "metadata": {
        "colab": {
          "base_uri": "https://localhost:8080/",
          "height": 424
        },
        "id": "fBoPs6XJdJ9p",
        "outputId": "b450b80f-75aa-4e70-811b-958f0cd2783b"
      },
      "source": [
        "features = ['M/F', 'Hand']\n",
        "one_hot = OneHotEncoder()\n",
        "transform = ColumnTransformer([('one_hot', one_hot, features)], remainder='passthrough')\n",
        "transfromed_X = transform.fit_transform(x)\n",
        "pd.DataFrame(transfromed_X)"
      ],
      "execution_count": null,
      "outputs": [
        {
          "output_type": "execute_result",
          "data": {
            "text/html": [
              "<div>\n",
              "<style scoped>\n",
              "    .dataframe tbody tr th:only-of-type {\n",
              "        vertical-align: middle;\n",
              "    }\n",
              "\n",
              "    .dataframe tbody tr th {\n",
              "        vertical-align: top;\n",
              "    }\n",
              "\n",
              "    .dataframe thead th {\n",
              "        text-align: right;\n",
              "    }\n",
              "</style>\n",
              "<table border=\"1\" class=\"dataframe\">\n",
              "  <thead>\n",
              "    <tr style=\"text-align: right;\">\n",
              "      <th></th>\n",
              "      <th>0</th>\n",
              "      <th>1</th>\n",
              "      <th>2</th>\n",
              "      <th>3</th>\n",
              "      <th>4</th>\n",
              "      <th>5</th>\n",
              "      <th>6</th>\n",
              "      <th>7</th>\n",
              "      <th>8</th>\n",
              "    </tr>\n",
              "  </thead>\n",
              "  <tbody>\n",
              "    <tr>\n",
              "      <th>0</th>\n",
              "      <td>0.0</td>\n",
              "      <td>1.0</td>\n",
              "      <td>1.0</td>\n",
              "      <td>1.0</td>\n",
              "      <td>87.0</td>\n",
              "      <td>14.0</td>\n",
              "      <td>2.0</td>\n",
              "      <td>27.0</td>\n",
              "      <td>0.0</td>\n",
              "    </tr>\n",
              "    <tr>\n",
              "      <th>1</th>\n",
              "      <td>0.0</td>\n",
              "      <td>1.0</td>\n",
              "      <td>1.0</td>\n",
              "      <td>2.0</td>\n",
              "      <td>88.0</td>\n",
              "      <td>14.0</td>\n",
              "      <td>2.0</td>\n",
              "      <td>30.0</td>\n",
              "      <td>0.0</td>\n",
              "    </tr>\n",
              "    <tr>\n",
              "      <th>2</th>\n",
              "      <td>1.0</td>\n",
              "      <td>0.0</td>\n",
              "      <td>1.0</td>\n",
              "      <td>1.0</td>\n",
              "      <td>88.0</td>\n",
              "      <td>18.0</td>\n",
              "      <td>3.0</td>\n",
              "      <td>28.0</td>\n",
              "      <td>0.0</td>\n",
              "    </tr>\n",
              "    <tr>\n",
              "      <th>3</th>\n",
              "      <td>1.0</td>\n",
              "      <td>0.0</td>\n",
              "      <td>1.0</td>\n",
              "      <td>2.0</td>\n",
              "      <td>90.0</td>\n",
              "      <td>18.0</td>\n",
              "      <td>3.0</td>\n",
              "      <td>27.0</td>\n",
              "      <td>0.0</td>\n",
              "    </tr>\n",
              "    <tr>\n",
              "      <th>4</th>\n",
              "      <td>0.0</td>\n",
              "      <td>1.0</td>\n",
              "      <td>1.0</td>\n",
              "      <td>1.0</td>\n",
              "      <td>80.0</td>\n",
              "      <td>12.0</td>\n",
              "      <td>4.0</td>\n",
              "      <td>28.0</td>\n",
              "      <td>0.0</td>\n",
              "    </tr>\n",
              "    <tr>\n",
              "      <th>...</th>\n",
              "      <td>...</td>\n",
              "      <td>...</td>\n",
              "      <td>...</td>\n",
              "      <td>...</td>\n",
              "      <td>...</td>\n",
              "      <td>...</td>\n",
              "      <td>...</td>\n",
              "      <td>...</td>\n",
              "      <td>...</td>\n",
              "    </tr>\n",
              "    <tr>\n",
              "      <th>349</th>\n",
              "      <td>0.0</td>\n",
              "      <td>1.0</td>\n",
              "      <td>1.0</td>\n",
              "      <td>2.0</td>\n",
              "      <td>82.0</td>\n",
              "      <td>16.0</td>\n",
              "      <td>1.0</td>\n",
              "      <td>28.0</td>\n",
              "      <td>0.5</td>\n",
              "    </tr>\n",
              "    <tr>\n",
              "      <th>350</th>\n",
              "      <td>0.0</td>\n",
              "      <td>1.0</td>\n",
              "      <td>1.0</td>\n",
              "      <td>3.0</td>\n",
              "      <td>86.0</td>\n",
              "      <td>16.0</td>\n",
              "      <td>1.0</td>\n",
              "      <td>26.0</td>\n",
              "      <td>0.5</td>\n",
              "    </tr>\n",
              "    <tr>\n",
              "      <th>351</th>\n",
              "      <td>1.0</td>\n",
              "      <td>0.0</td>\n",
              "      <td>1.0</td>\n",
              "      <td>1.0</td>\n",
              "      <td>61.0</td>\n",
              "      <td>13.0</td>\n",
              "      <td>2.0</td>\n",
              "      <td>30.0</td>\n",
              "      <td>0.0</td>\n",
              "    </tr>\n",
              "    <tr>\n",
              "      <th>352</th>\n",
              "      <td>1.0</td>\n",
              "      <td>0.0</td>\n",
              "      <td>1.0</td>\n",
              "      <td>2.0</td>\n",
              "      <td>63.0</td>\n",
              "      <td>13.0</td>\n",
              "      <td>2.0</td>\n",
              "      <td>30.0</td>\n",
              "      <td>0.0</td>\n",
              "    </tr>\n",
              "    <tr>\n",
              "      <th>353</th>\n",
              "      <td>1.0</td>\n",
              "      <td>0.0</td>\n",
              "      <td>1.0</td>\n",
              "      <td>3.0</td>\n",
              "      <td>65.0</td>\n",
              "      <td>13.0</td>\n",
              "      <td>2.0</td>\n",
              "      <td>30.0</td>\n",
              "      <td>0.0</td>\n",
              "    </tr>\n",
              "  </tbody>\n",
              "</table>\n",
              "<p>354 rows × 9 columns</p>\n",
              "</div>"
            ],
            "text/plain": [
              "       0    1    2    3     4     5    6     7    8\n",
              "0    0.0  1.0  1.0  1.0  87.0  14.0  2.0  27.0  0.0\n",
              "1    0.0  1.0  1.0  2.0  88.0  14.0  2.0  30.0  0.0\n",
              "2    1.0  0.0  1.0  1.0  88.0  18.0  3.0  28.0  0.0\n",
              "3    1.0  0.0  1.0  2.0  90.0  18.0  3.0  27.0  0.0\n",
              "4    0.0  1.0  1.0  1.0  80.0  12.0  4.0  28.0  0.0\n",
              "..   ...  ...  ...  ...   ...   ...  ...   ...  ...\n",
              "349  0.0  1.0  1.0  2.0  82.0  16.0  1.0  28.0  0.5\n",
              "350  0.0  1.0  1.0  3.0  86.0  16.0  1.0  26.0  0.5\n",
              "351  1.0  0.0  1.0  1.0  61.0  13.0  2.0  30.0  0.0\n",
              "352  1.0  0.0  1.0  2.0  63.0  13.0  2.0  30.0  0.0\n",
              "353  1.0  0.0  1.0  3.0  65.0  13.0  2.0  30.0  0.0\n",
              "\n",
              "[354 rows x 9 columns]"
            ]
          },
          "metadata": {},
          "execution_count": 4
        }
      ]
    },
    {
      "cell_type": "markdown",
      "metadata": {
        "id": "doKY1dfe7pA-"
      },
      "source": [
        "A method to evaluate our models\n",
        "\n"
      ]
    },
    {
      "cell_type": "code",
      "metadata": {
        "id": "B8D_TiO5p_Vh"
      },
      "source": [
        "def evaluation_pred(y_true, y_pred):\n",
        "  accuracy = accuracy_score(y_true, y_pred)\n",
        "  precision = precision_score(y_true, y_pred,\n",
        "                              pos_label='positive',\n",
        "                              average='micro')\n",
        "  recall = recall_score(y_true, y_pred,\n",
        "                        pos_label='positive',\n",
        "                        average='micro')\n",
        "  f1 = f1_score(y_true, y_pred,\n",
        "                        pos_label='positive',\n",
        "                        average='micro')\n",
        "  martic_dict = {\"Accuracy\": round(accuracy, 2),\n",
        "                 \"precision\": round(precision, 2),\n",
        "                 \"recall\": round(recall, 2),\n",
        "                 \"f1\": round(f1, 2)}\n",
        "\n",
        "  print(f\"accuracy: {accuracy * 100:.2f}%\")\n",
        "  print(f\"percision {precision:.2f}\")\n",
        "  print(f\"recall {recall:.2f}\")\n",
        "  print(f\"f1: {f1:.02f}\")\n",
        "\n",
        "  return martic_dict"
      ],
      "execution_count": null,
      "outputs": []
    },
    {
      "cell_type": "markdown",
      "metadata": {
        "id": "gjfTF5-S71I8"
      },
      "source": [
        "Spliting dataset into train and text dataset"
      ]
    },
    {
      "cell_type": "code",
      "metadata": {
        "id": "7hNf4LOnaHcC"
      },
      "source": [
        "x_train, x_test, y_train, y_test = train_test_split(transfromed_X, y, test_size=0.2)"
      ],
      "execution_count": null,
      "outputs": []
    },
    {
      "cell_type": "code",
      "metadata": {
        "id": "uJgmS2TlYp79"
      },
      "source": [
        "#import pickle\n",
        "\n",
        "#pickle.dump(rs_clf, open(\"RandomForestCV\", \"wb\"))"
      ],
      "execution_count": null,
      "outputs": []
    },
    {
      "cell_type": "markdown",
      "metadata": {
        "id": "nPtSPQVH79R1"
      },
      "source": [
        "Hyperparameter tuning for the GaussianNB model"
      ]
    },
    {
      "cell_type": "code",
      "metadata": {
        "colab": {
          "base_uri": "https://localhost:8080/"
        },
        "id": "9PB1kwO8_2-v",
        "outputId": "4d55eaf7-8704-4284-df56-c44d795d2779"
      },
      "source": [
        "parameters = {\n",
        "    'priors': [None],\n",
        "    'var_smoothing': [ 0.000000001]\n",
        "}\n",
        "\n",
        "cv_gnb = GridSearchCV(estimator=GaussianNB(), param_grid=parameters, cv = 5, verbose=2)\n",
        "cv_gnb.fit(x_train, y_train)\n",
        "y_pred_gnb = cv_gnb.predict(x_test)\n",
        "evaluation_pred(y_test, y_pred_gnb)"
      ],
      "execution_count": null,
      "outputs": [
        {
          "output_type": "stream",
          "text": [
            "Fitting 5 folds for each of 1 candidates, totalling 5 fits\n",
            "[CV] priors=None, var_smoothing=1e-09 ................................\n",
            "[CV] ................. priors=None, var_smoothing=1e-09, total=   0.0s\n",
            "[CV] priors=None, var_smoothing=1e-09 ................................\n",
            "[CV] ................. priors=None, var_smoothing=1e-09, total=   0.0s\n",
            "[CV] priors=None, var_smoothing=1e-09 ................................\n",
            "[CV] ................. priors=None, var_smoothing=1e-09, total=   0.0s\n",
            "[CV] priors=None, var_smoothing=1e-09 ................................\n",
            "[CV] ................. priors=None, var_smoothing=1e-09, total=   0.0s\n",
            "[CV] priors=None, var_smoothing=1e-09 ................................\n",
            "[CV] ................. priors=None, var_smoothing=1e-09, total=   0.0s\n",
            "accuracy: 88.73%\n",
            "percision 0.89\n",
            "recall 0.89\n",
            "f1: 0.89\n"
          ],
          "name": "stdout"
        },
        {
          "output_type": "stream",
          "text": [
            "[Parallel(n_jobs=1)]: Using backend SequentialBackend with 1 concurrent workers.\n",
            "[Parallel(n_jobs=1)]: Done   1 out of   1 | elapsed:    0.0s remaining:    0.0s\n",
            "[Parallel(n_jobs=1)]: Done   5 out of   5 | elapsed:    0.0s finished\n",
            "/usr/local/lib/python3.7/dist-packages/sklearn/metrics/_classification.py:1321: UserWarning: Note that pos_label (set to 'positive') is ignored when average != 'binary' (got 'micro'). You may use labels=[pos_label] to specify a single positive class.\n",
            "  % (pos_label, average), UserWarning)\n"
          ],
          "name": "stderr"
        },
        {
          "output_type": "execute_result",
          "data": {
            "text/plain": [
              "{'Accuracy': 0.89, 'f1': 0.89, 'precision': 0.89, 'recall': 0.89}"
            ]
          },
          "metadata": {
            "tags": []
          },
          "execution_count": 66
        }
      ]
    },
    {
      "cell_type": "code",
      "metadata": {
        "colab": {
          "base_uri": "https://localhost:8080/"
        },
        "id": "QI23GgvrAetu",
        "outputId": "e435cb5e-1060-4842-f3b4-419fb5fa1a36"
      },
      "source": [
        "cv_gnb.best_params_"
      ],
      "execution_count": null,
      "outputs": [
        {
          "output_type": "execute_result",
          "data": {
            "text/plain": [
              "{'priors': None, 'var_smoothing': 1e-09}"
            ]
          },
          "metadata": {
            "tags": []
          },
          "execution_count": 67
        }
      ]
    },
    {
      "cell_type": "markdown",
      "metadata": {
        "id": "LEGvDWBM8MH0"
      },
      "source": [
        "Hyperparameter tuning for the LinearSVC model"
      ]
    },
    {
      "cell_type": "code",
      "metadata": {
        "colab": {
          "base_uri": "https://localhost:8080/"
        },
        "id": "1PDXLmsbBIrP",
        "outputId": "1b03d3b3-e421-49f7-be16-70308d25bd2c"
      },
      "source": [
        "param_grid = {'C': [400], \n",
        "              'dual': [False],\n",
        "              'loss': ['squared_hinge'],\n",
        "              'tol': [.00000001],\n",
        "              'multi_class':['ovr']} \n",
        "\n",
        "cv_svm = GridSearchCV(estimator=LinearSVC(), param_grid=param_grid, cv = 5, verbose=2)\n",
        "cv_svm.fit(x_train, y_train)\n",
        "y_pred_gnb = cv_svm.predict(x_test)\n",
        "evaluation_pred(y_test, y_pred_gnb)"
      ],
      "execution_count": null,
      "outputs": [
        {
          "output_type": "stream",
          "text": [
            "Fitting 5 folds for each of 1 candidates, totalling 5 fits\n",
            "[CV] C=400, dual=False, loss=squared_hinge, multi_class=ovr, tol=1e-08 \n",
            "[CV]  C=400, dual=False, loss=squared_hinge, multi_class=ovr, tol=1e-08, total=   0.0s\n",
            "[CV] C=400, dual=False, loss=squared_hinge, multi_class=ovr, tol=1e-08 \n",
            "[CV]  C=400, dual=False, loss=squared_hinge, multi_class=ovr, tol=1e-08, total=   0.0s\n",
            "[CV] C=400, dual=False, loss=squared_hinge, multi_class=ovr, tol=1e-08 \n",
            "[CV]  C=400, dual=False, loss=squared_hinge, multi_class=ovr, tol=1e-08, total=   0.0s\n",
            "[CV] C=400, dual=False, loss=squared_hinge, multi_class=ovr, tol=1e-08 \n",
            "[CV]  C=400, dual=False, loss=squared_hinge, multi_class=ovr, tol=1e-08, total=   0.0s\n",
            "[CV] C=400, dual=False, loss=squared_hinge, multi_class=ovr, tol=1e-08 \n",
            "[CV]  C=400, dual=False, loss=squared_hinge, multi_class=ovr, tol=1e-08, total=   0.0s\n",
            "accuracy: 90.14%\n",
            "percision 0.90\n",
            "recall 0.90\n",
            "f1: 0.90\n"
          ],
          "name": "stdout"
        },
        {
          "output_type": "stream",
          "text": [
            "[Parallel(n_jobs=1)]: Using backend SequentialBackend with 1 concurrent workers.\n",
            "[Parallel(n_jobs=1)]: Done   1 out of   1 | elapsed:    0.0s remaining:    0.0s\n",
            "[Parallel(n_jobs=1)]: Done   5 out of   5 | elapsed:    0.0s finished\n",
            "/usr/local/lib/python3.7/dist-packages/sklearn/metrics/_classification.py:1321: UserWarning: Note that pos_label (set to 'positive') is ignored when average != 'binary' (got 'micro'). You may use labels=[pos_label] to specify a single positive class.\n",
            "  % (pos_label, average), UserWarning)\n"
          ],
          "name": "stderr"
        },
        {
          "output_type": "execute_result",
          "data": {
            "text/plain": [
              "{'Accuracy': 0.9, 'f1': 0.9, 'precision': 0.9, 'recall': 0.9}"
            ]
          },
          "metadata": {
            "tags": []
          },
          "execution_count": 68
        }
      ]
    },
    {
      "cell_type": "code",
      "metadata": {
        "colab": {
          "base_uri": "https://localhost:8080/"
        },
        "id": "sdZvtvbuCwL-",
        "outputId": "e3f04f5b-3cea-4faf-ff18-9d90a27ead64"
      },
      "source": [
        "cv_svm.best_params_"
      ],
      "execution_count": null,
      "outputs": [
        {
          "output_type": "execute_result",
          "data": {
            "text/plain": [
              "{'C': 400,\n",
              " 'dual': False,\n",
              " 'loss': 'squared_hinge',\n",
              " 'multi_class': 'ovr',\n",
              " 'tol': 1e-08}"
            ]
          },
          "metadata": {
            "tags": []
          },
          "execution_count": 69
        }
      ]
    },
    {
      "cell_type": "markdown",
      "metadata": {
        "id": "MCDWx25u8Zem"
      },
      "source": [
        "Hyperparameter tuning for the Logistic Regression model"
      ]
    },
    {
      "cell_type": "code",
      "metadata": {
        "colab": {
          "base_uri": "https://localhost:8080/"
        },
        "id": "ZWM3rRGI2ngJ",
        "outputId": "4f2ef032-d5be-4474-fea1-3485f6270554"
      },
      "source": [
        "param_grid = {'C': [275],\n",
        "              'penalty': ['l2'], \n",
        "              'tol': [.000001],\n",
        "              'fit_intercept':[True],\n",
        "              'class_weight':['balanced'],\n",
        "              'solver':['liblinear']\n",
        "              } \n",
        "\n",
        "cv_lr = GridSearchCV(estimator=LogisticRegression(), param_grid=param_grid, cv = 5, verbose=2)\n",
        "cv_lr.fit(x_train, y_train)\n",
        "y_pred_lr = cv_lr.predict(x_test)\n",
        "evaluation_pred(y_test, y_pred_lr)"
      ],
      "execution_count": null,
      "outputs": [
        {
          "output_type": "stream",
          "text": [
            "Fitting 5 folds for each of 1 candidates, totalling 5 fits\n",
            "[CV] C=275, class_weight=balanced, fit_intercept=True, penalty=l2, solver=liblinear, tol=1e-06 \n",
            "[CV]  C=275, class_weight=balanced, fit_intercept=True, penalty=l2, solver=liblinear, tol=1e-06, total=   0.0s\n",
            "[CV] C=275, class_weight=balanced, fit_intercept=True, penalty=l2, solver=liblinear, tol=1e-06 \n",
            "[CV]  C=275, class_weight=balanced, fit_intercept=True, penalty=l2, solver=liblinear, tol=1e-06, total=   0.0s\n",
            "[CV] C=275, class_weight=balanced, fit_intercept=True, penalty=l2, solver=liblinear, tol=1e-06 "
          ],
          "name": "stdout"
        },
        {
          "output_type": "stream",
          "text": [
            "[Parallel(n_jobs=1)]: Using backend SequentialBackend with 1 concurrent workers.\n",
            "[Parallel(n_jobs=1)]: Done   1 out of   1 | elapsed:    0.0s remaining:    0.0s\n"
          ],
          "name": "stderr"
        },
        {
          "output_type": "stream",
          "text": [
            "\n",
            "[CV]  C=275, class_weight=balanced, fit_intercept=True, penalty=l2, solver=liblinear, tol=1e-06, total=   0.0s\n",
            "[CV] C=275, class_weight=balanced, fit_intercept=True, penalty=l2, solver=liblinear, tol=1e-06 \n",
            "[CV]  C=275, class_weight=balanced, fit_intercept=True, penalty=l2, solver=liblinear, tol=1e-06, total=   0.0s\n",
            "[CV] C=275, class_weight=balanced, fit_intercept=True, penalty=l2, solver=liblinear, tol=1e-06 \n",
            "[CV]  C=275, class_weight=balanced, fit_intercept=True, penalty=l2, solver=liblinear, tol=1e-06, total=   0.0s\n",
            "accuracy: 88.73%\n",
            "percision 0.89\n",
            "recall 0.89\n",
            "f1: 0.89\n"
          ],
          "name": "stdout"
        },
        {
          "output_type": "stream",
          "text": [
            "[Parallel(n_jobs=1)]: Done   5 out of   5 | elapsed:    0.1s finished\n",
            "/usr/local/lib/python3.7/dist-packages/sklearn/metrics/_classification.py:1321: UserWarning: Note that pos_label (set to 'positive') is ignored when average != 'binary' (got 'micro'). You may use labels=[pos_label] to specify a single positive class.\n",
            "  % (pos_label, average), UserWarning)\n"
          ],
          "name": "stderr"
        },
        {
          "output_type": "execute_result",
          "data": {
            "text/plain": [
              "{'Accuracy': 0.89, 'f1': 0.89, 'precision': 0.89, 'recall': 0.89}"
            ]
          },
          "metadata": {
            "tags": []
          },
          "execution_count": 70
        }
      ]
    },
    {
      "cell_type": "code",
      "metadata": {
        "colab": {
          "base_uri": "https://localhost:8080/"
        },
        "id": "OLuvVHkCDGcj",
        "outputId": "594f6f34-b093-4be5-a7e8-d486ecd4fd56"
      },
      "source": [
        "cv_lr.best_params_"
      ],
      "execution_count": null,
      "outputs": [
        {
          "output_type": "execute_result",
          "data": {
            "text/plain": [
              "{'C': 275,\n",
              " 'class_weight': 'balanced',\n",
              " 'fit_intercept': True,\n",
              " 'penalty': 'l2',\n",
              " 'solver': 'liblinear',\n",
              " 'tol': 1e-06}"
            ]
          },
          "metadata": {
            "tags": []
          },
          "execution_count": 71
        }
      ]
    },
    {
      "cell_type": "markdown",
      "metadata": {
        "id": "dyo80PLS8hTR"
      },
      "source": [
        "Hyperparameter tuning for the Adaboost model"
      ]
    },
    {
      "cell_type": "code",
      "metadata": {
        "colab": {
          "base_uri": "https://localhost:8080/"
        },
        "id": "D2FQ6ra2StVm",
        "outputId": "5ad58377-1607-4014-dee4-cdb3cb041499"
      },
      "source": [
        "clf = RandomForestClassifier( max_depth = 10,\n",
        "                              max_features= 'auto',\n",
        "                              min_samples_leaf= 1,\n",
        "                              min_samples_split= 4,\n",
        "                              n_estimators= 10)\n",
        "gnb = GaussianNB(priors= None, var_smoothing= 1e-08)\n",
        "svc = LinearSVC(C= 500,\n",
        "                dual= False,\n",
        "                loss= 'squared_hinge',\n",
        "                multi_class= 'ovr',\n",
        "                tol= 1e-08)\n",
        "LG= LogisticRegression(C= 225,\n",
        "                      class_weight= 'balanced',\n",
        "                      fit_intercept= True,\n",
        "                      penalty= 'l2',\n",
        "                      solver= 'liblinear',\n",
        "                      tol= 1e-06)\n",
        "KNC = KNeighborsClassifier()\n",
        "Ada = AdaBoostClassifier()\n",
        "\n",
        "param_grid = {'base_estimator':[clf],\n",
        "              'n_estimators': [1200],\n",
        "              'algorithm':['SAMME']\n",
        "              } \n",
        "\n",
        "cv_ad = GridSearchCV(estimator=AdaBoostClassifier(), param_grid=param_grid, cv = 5, verbose=2)\n",
        "cv_ad.fit(x_train, y_train)\n",
        "y_pred_lr = cv_ad.predict(x_test)\n",
        "evaluation_pred(y_test, y_pred_lr)"
      ],
      "execution_count": null,
      "outputs": [
        {
          "output_type": "stream",
          "text": [
            "Fitting 5 folds for each of 1 candidates, totalling 5 fits\n",
            "[CV] algorithm=SAMME, base_estimator=RandomForestClassifier(bootstrap=True, ccp_alpha=0.0, class_weight=None,\n",
            "                       criterion='gini', max_depth=10, max_features='auto',\n",
            "                       max_leaf_nodes=None, max_samples=None,\n",
            "                       min_impurity_decrease=0.0, min_impurity_split=None,\n",
            "                       min_samples_leaf=1, min_samples_split=4,\n",
            "                       min_weight_fraction_leaf=0.0, n_estimators=10,\n",
            "                       n_jobs=None, oob_score=False, random_state=None,\n",
            "                       verbose=0, warm_start=False), n_estimators=1200 \n"
          ],
          "name": "stdout"
        },
        {
          "output_type": "stream",
          "text": [
            "[Parallel(n_jobs=1)]: Using backend SequentialBackend with 1 concurrent workers.\n"
          ],
          "name": "stderr"
        },
        {
          "output_type": "stream",
          "text": [
            "[CV]  algorithm=SAMME, base_estimator=RandomForestClassifier(bootstrap=True, ccp_alpha=0.0, class_weight=None,\n",
            "                       criterion='gini', max_depth=10, max_features='auto',\n",
            "                       max_leaf_nodes=None, max_samples=None,\n",
            "                       min_impurity_decrease=0.0, min_impurity_split=None,\n",
            "                       min_samples_leaf=1, min_samples_split=4,\n",
            "                       min_weight_fraction_leaf=0.0, n_estimators=10,\n",
            "                       n_jobs=None, oob_score=False, random_state=None,\n",
            "                       verbose=0, warm_start=False), n_estimators=1200, total=   0.9s\n",
            "[CV] algorithm=SAMME, base_estimator=RandomForestClassifier(bootstrap=True, ccp_alpha=0.0, class_weight=None,\n",
            "                       criterion='gini', max_depth=10, max_features='auto',\n",
            "                       max_leaf_nodes=None, max_samples=None,\n",
            "                       min_impurity_decrease=0.0, min_impurity_split=None,\n",
            "                       min_samples_leaf=1, min_samples_split=4,\n",
            "                       min_weight_fraction_leaf=0.0, n_estimators=10,\n",
            "                       n_jobs=None, oob_score=False, random_state=None,\n",
            "                       verbose=0, warm_start=False), n_estimators=1200 \n"
          ],
          "name": "stdout"
        },
        {
          "output_type": "stream",
          "text": [
            "[Parallel(n_jobs=1)]: Done   1 out of   1 | elapsed:    0.9s remaining:    0.0s\n"
          ],
          "name": "stderr"
        },
        {
          "output_type": "stream",
          "text": [
            "[CV]  algorithm=SAMME, base_estimator=RandomForestClassifier(bootstrap=True, ccp_alpha=0.0, class_weight=None,\n",
            "                       criterion='gini', max_depth=10, max_features='auto',\n",
            "                       max_leaf_nodes=None, max_samples=None,\n",
            "                       min_impurity_decrease=0.0, min_impurity_split=None,\n",
            "                       min_samples_leaf=1, min_samples_split=4,\n",
            "                       min_weight_fraction_leaf=0.0, n_estimators=10,\n",
            "                       n_jobs=None, oob_score=False, random_state=None,\n",
            "                       verbose=0, warm_start=False), n_estimators=1200, total=   0.3s\n",
            "[CV] algorithm=SAMME, base_estimator=RandomForestClassifier(bootstrap=True, ccp_alpha=0.0, class_weight=None,\n",
            "                       criterion='gini', max_depth=10, max_features='auto',\n",
            "                       max_leaf_nodes=None, max_samples=None,\n",
            "                       min_impurity_decrease=0.0, min_impurity_split=None,\n",
            "                       min_samples_leaf=1, min_samples_split=4,\n",
            "                       min_weight_fraction_leaf=0.0, n_estimators=10,\n",
            "                       n_jobs=None, oob_score=False, random_state=None,\n",
            "                       verbose=0, warm_start=False), n_estimators=1200 \n",
            "[CV]  algorithm=SAMME, base_estimator=RandomForestClassifier(bootstrap=True, ccp_alpha=0.0, class_weight=None,\n",
            "                       criterion='gini', max_depth=10, max_features='auto',\n",
            "                       max_leaf_nodes=None, max_samples=None,\n",
            "                       min_impurity_decrease=0.0, min_impurity_split=None,\n",
            "                       min_samples_leaf=1, min_samples_split=4,\n",
            "                       min_weight_fraction_leaf=0.0, n_estimators=10,\n",
            "                       n_jobs=None, oob_score=False, random_state=None,\n",
            "                       verbose=0, warm_start=False), n_estimators=1200, total=   0.3s\n",
            "[CV] algorithm=SAMME, base_estimator=RandomForestClassifier(bootstrap=True, ccp_alpha=0.0, class_weight=None,\n",
            "                       criterion='gini', max_depth=10, max_features='auto',\n",
            "                       max_leaf_nodes=None, max_samples=None,\n",
            "                       min_impurity_decrease=0.0, min_impurity_split=None,\n",
            "                       min_samples_leaf=1, min_samples_split=4,\n",
            "                       min_weight_fraction_leaf=0.0, n_estimators=10,\n",
            "                       n_jobs=None, oob_score=False, random_state=None,\n",
            "                       verbose=0, warm_start=False), n_estimators=1200 \n",
            "[CV]  algorithm=SAMME, base_estimator=RandomForestClassifier(bootstrap=True, ccp_alpha=0.0, class_weight=None,\n",
            "                       criterion='gini', max_depth=10, max_features='auto',\n",
            "                       max_leaf_nodes=None, max_samples=None,\n",
            "                       min_impurity_decrease=0.0, min_impurity_split=None,\n",
            "                       min_samples_leaf=1, min_samples_split=4,\n",
            "                       min_weight_fraction_leaf=0.0, n_estimators=10,\n",
            "                       n_jobs=None, oob_score=False, random_state=None,\n",
            "                       verbose=0, warm_start=False), n_estimators=1200, total=   0.1s\n",
            "[CV] algorithm=SAMME, base_estimator=RandomForestClassifier(bootstrap=True, ccp_alpha=0.0, class_weight=None,\n",
            "                       criterion='gini', max_depth=10, max_features='auto',\n",
            "                       max_leaf_nodes=None, max_samples=None,\n",
            "                       min_impurity_decrease=0.0, min_impurity_split=None,\n",
            "                       min_samples_leaf=1, min_samples_split=4,\n",
            "                       min_weight_fraction_leaf=0.0, n_estimators=10,\n",
            "                       n_jobs=None, oob_score=False, random_state=None,\n",
            "                       verbose=0, warm_start=False), n_estimators=1200 \n",
            "[CV]  algorithm=SAMME, base_estimator=RandomForestClassifier(bootstrap=True, ccp_alpha=0.0, class_weight=None,\n",
            "                       criterion='gini', max_depth=10, max_features='auto',\n",
            "                       max_leaf_nodes=None, max_samples=None,\n",
            "                       min_impurity_decrease=0.0, min_impurity_split=None,\n",
            "                       min_samples_leaf=1, min_samples_split=4,\n",
            "                       min_weight_fraction_leaf=0.0, n_estimators=10,\n",
            "                       n_jobs=None, oob_score=False, random_state=None,\n",
            "                       verbose=0, warm_start=False), n_estimators=1200, total=   0.3s\n"
          ],
          "name": "stdout"
        },
        {
          "output_type": "stream",
          "text": [
            "[Parallel(n_jobs=1)]: Done   5 out of   5 | elapsed:    1.9s finished\n"
          ],
          "name": "stderr"
        },
        {
          "output_type": "stream",
          "text": [
            "accuracy: 91.55%\n",
            "percision 0.92\n",
            "recall 0.92\n",
            "f1: 0.92\n"
          ],
          "name": "stdout"
        },
        {
          "output_type": "stream",
          "text": [
            "/usr/local/lib/python3.7/dist-packages/sklearn/metrics/_classification.py:1321: UserWarning: Note that pos_label (set to 'positive') is ignored when average != 'binary' (got 'micro'). You may use labels=[pos_label] to specify a single positive class.\n",
            "  % (pos_label, average), UserWarning)\n"
          ],
          "name": "stderr"
        },
        {
          "output_type": "execute_result",
          "data": {
            "text/plain": [
              "{'Accuracy': 0.92, 'f1': 0.92, 'precision': 0.92, 'recall': 0.92}"
            ]
          },
          "metadata": {
            "tags": []
          },
          "execution_count": 72
        }
      ]
    },
    {
      "cell_type": "code",
      "metadata": {
        "colab": {
          "base_uri": "https://localhost:8080/"
        },
        "id": "ylnWF_PWbhTX",
        "outputId": "b8bc01fc-a6e9-4464-b99f-286dac438020"
      },
      "source": [
        "cv_ad.best_params_"
      ],
      "execution_count": null,
      "outputs": [
        {
          "output_type": "execute_result",
          "data": {
            "text/plain": [
              "{'algorithm': 'SAMME',\n",
              " 'base_estimator': RandomForestClassifier(bootstrap=True, ccp_alpha=0.0, class_weight=None,\n",
              "                        criterion='gini', max_depth=10, max_features='auto',\n",
              "                        max_leaf_nodes=None, max_samples=None,\n",
              "                        min_impurity_decrease=0.0, min_impurity_split=None,\n",
              "                        min_samples_leaf=1, min_samples_split=4,\n",
              "                        min_weight_fraction_leaf=0.0, n_estimators=10,\n",
              "                        n_jobs=None, oob_score=False, random_state=None,\n",
              "                        verbose=0, warm_start=False),\n",
              " 'n_estimators': 1200}"
            ]
          },
          "metadata": {
            "tags": []
          },
          "execution_count": 73
        }
      ]
    },
    {
      "cell_type": "markdown",
      "metadata": {
        "id": "S55ure8q82bu"
      },
      "source": [
        "Hyperparameter tuning for the KNeighbourClassifier model"
      ]
    },
    {
      "cell_type": "code",
      "metadata": {
        "colab": {
          "base_uri": "https://localhost:8080/"
        },
        "id": "TRDvNF8ht5-B",
        "outputId": "d0c465c3-df3f-4873-eebd-4477d45a5b6b"
      },
      "source": [
        "param_grid = {'n_neighbors': [10],\n",
        "              'weights': ['distance'],\n",
        "              'algorithm':['auto'],\n",
        "              'leaf_size': [10],\n",
        "              'p':[1,2],\n",
        "              'metric':['manhattan'],\n",
        "              'n_jobs':[-1]} \n",
        "\n",
        "cv_kn = GridSearchCV(estimator=KNeighborsClassifier(), param_grid=param_grid, cv = 5, verbose=2)\n",
        "cv_kn.fit(x_train, y_train)\n",
        "y_pred_lr = cv_kn.predict(x_test)\n",
        "evaluation_pred(y_test, y_pred_lr)"
      ],
      "execution_count": null,
      "outputs": [
        {
          "output_type": "stream",
          "text": [
            "Fitting 5 folds for each of 2 candidates, totalling 10 fits\n",
            "[CV] algorithm=auto, leaf_size=10, metric=manhattan, n_jobs=-1, n_neighbors=10, p=1, weights=distance \n"
          ],
          "name": "stdout"
        },
        {
          "output_type": "stream",
          "text": [
            "[Parallel(n_jobs=1)]: Using backend SequentialBackend with 1 concurrent workers.\n"
          ],
          "name": "stderr"
        },
        {
          "output_type": "stream",
          "text": [
            "[CV]  algorithm=auto, leaf_size=10, metric=manhattan, n_jobs=-1, n_neighbors=10, p=1, weights=distance, total=   0.8s\n",
            "[CV] algorithm=auto, leaf_size=10, metric=manhattan, n_jobs=-1, n_neighbors=10, p=1, weights=distance \n",
            "[CV]  algorithm=auto, leaf_size=10, metric=manhattan, n_jobs=-1, n_neighbors=10, p=1, weights=distance, total=   0.0s\n",
            "[CV] algorithm=auto, leaf_size=10, metric=manhattan, n_jobs=-1, n_neighbors=10, p=1, weights=distance \n",
            "[CV]  algorithm=auto, leaf_size=10, metric=manhattan, n_jobs=-1, n_neighbors=10, p=1, weights=distance, total=   0.0s\n",
            "[CV] algorithm=auto, leaf_size=10, metric=manhattan, n_jobs=-1, n_neighbors=10, p=1, weights=distance \n",
            "[CV]  algorithm=auto, leaf_size=10, metric=manhattan, n_jobs=-1, n_neighbors=10, p=1, weights=distance, total=   0.0s\n",
            "[CV] algorithm=auto, leaf_size=10, metric=manhattan, n_jobs=-1, n_neighbors=10, p=1, weights=distance \n",
            "[CV]  algorithm=auto, leaf_size=10, metric=manhattan, n_jobs=-1, n_neighbors=10, p=1, weights=distance, total=   0.0s\n",
            "[CV] algorithm=auto, leaf_size=10, metric=manhattan, n_jobs=-1, n_neighbors=10, p=2, weights=distance \n",
            "[CV]  algorithm=auto, leaf_size=10, metric=manhattan, n_jobs=-1, n_neighbors=10, p=2, weights=distance, total=   0.0s\n",
            "[CV] algorithm=auto, leaf_size=10, metric=manhattan, n_jobs=-1, n_neighbors=10, p=2, weights=distance \n",
            "[CV]  algorithm=auto, leaf_size=10, metric=manhattan, n_jobs=-1, n_neighbors=10, p=2, weights=distance, total=   0.0s\n",
            "[CV] algorithm=auto, leaf_size=10, metric=manhattan, n_jobs=-1, n_neighbors=10, p=2, weights=distance \n",
            "[CV]  algorithm=auto, leaf_size=10, metric=manhattan, n_jobs=-1, n_neighbors=10, p=2, weights=distance, total=   0.0s\n",
            "[CV] algorithm=auto, leaf_size=10, metric=manhattan, n_jobs=-1, n_neighbors=10, p=2, weights=distance \n",
            "[CV]  algorithm=auto, leaf_size=10, metric=manhattan, n_jobs=-1, n_neighbors=10, p=2, weights=distance, total=   0.0s\n",
            "[CV] algorithm=auto, leaf_size=10, metric=manhattan, n_jobs=-1, n_neighbors=10, p=2, weights=distance \n",
            "[CV]  algorithm=auto, leaf_size=10, metric=manhattan, n_jobs=-1, n_neighbors=10, p=2, weights=distance, total=   0.0s\n"
          ],
          "name": "stdout"
        },
        {
          "output_type": "stream",
          "text": [
            "[Parallel(n_jobs=1)]: Done   1 out of   1 | elapsed:    0.8s remaining:    0.0s\n",
            "[Parallel(n_jobs=1)]: Done  10 out of  10 | elapsed:    1.0s finished\n"
          ],
          "name": "stderr"
        },
        {
          "output_type": "stream",
          "text": [
            "accuracy: 83.10%\n",
            "percision 0.83\n",
            "recall 0.83\n",
            "f1: 0.83\n"
          ],
          "name": "stdout"
        },
        {
          "output_type": "stream",
          "text": [
            "/usr/local/lib/python3.7/dist-packages/sklearn/metrics/_classification.py:1321: UserWarning: Note that pos_label (set to 'positive') is ignored when average != 'binary' (got 'micro'). You may use labels=[pos_label] to specify a single positive class.\n",
            "  % (pos_label, average), UserWarning)\n"
          ],
          "name": "stderr"
        },
        {
          "output_type": "execute_result",
          "data": {
            "text/plain": [
              "{'Accuracy': 0.83, 'f1': 0.83, 'precision': 0.83, 'recall': 0.83}"
            ]
          },
          "metadata": {
            "tags": []
          },
          "execution_count": 74
        }
      ]
    },
    {
      "cell_type": "code",
      "metadata": {
        "colab": {
          "base_uri": "https://localhost:8080/"
        },
        "id": "7wXAaP5pll4T",
        "outputId": "cbb8d362-7294-41e2-98d7-9ed4550b0da7"
      },
      "source": [
        "cv_kn.best_params_"
      ],
      "execution_count": null,
      "outputs": [
        {
          "output_type": "execute_result",
          "data": {
            "text/plain": [
              "{'algorithm': 'auto',\n",
              " 'leaf_size': 10,\n",
              " 'metric': 'manhattan',\n",
              " 'n_jobs': -1,\n",
              " 'n_neighbors': 10,\n",
              " 'p': 1,\n",
              " 'weights': 'distance'}"
            ]
          },
          "metadata": {
            "tags": []
          },
          "execution_count": 75
        }
      ]
    },
    {
      "cell_type": "markdown",
      "metadata": {
        "id": "c_jQuRLI9AYe"
      },
      "source": [
        ""
      ]
    },
    {
      "cell_type": "markdown",
      "metadata": {
        "id": "1mXGgk1S9QMY"
      },
      "source": [
        "Hyperparameter tuning for the Random forest classifier model"
      ]
    },
    {
      "cell_type": "code",
      "metadata": {
        "id": "poOq3lfJ53-7",
        "colab": {
          "base_uri": "https://localhost:8080/"
        },
        "outputId": "cd76ff45-f662-4ce0-fc45-69553bce0b5c"
      },
      "source": [
        "grid = {\n",
        "    \"n_estimators\": [10],\n",
        "    \"max_depth\": [5],\n",
        "    \"max_features\": [\"auto\"],\n",
        "    \"min_samples_split\": [2],\n",
        "    \"min_samples_leaf\": [2],\n",
        "    'criterion':['gini'],\n",
        "}\n",
        "\n",
        "clf = RandomForestClassifier(n_jobs=1)\n",
        "\n",
        "rs_clf = GridSearchCV(estimator=clf,\n",
        "                      param_grid = grid,\n",
        "                      cv = 10,\n",
        "                      verbose = 2)\n",
        "\n",
        "rs_clf.fit(x_train, y_train)\n",
        "rs_clf.fit(x_train, y_train)\n",
        "y_pred_lr = rs_clf.predict(x_test)\n",
        "evaluation_pred(y_test, y_pred_lr)"
      ],
      "execution_count": null,
      "outputs": [
        {
          "output_type": "stream",
          "text": [
            "[Parallel(n_jobs=1)]: Using backend SequentialBackend with 1 concurrent workers.\n",
            "[Parallel(n_jobs=1)]: Done   1 out of   1 | elapsed:    0.0s remaining:    0.0s\n"
          ],
          "name": "stderr"
        },
        {
          "output_type": "stream",
          "text": [
            "Fitting 10 folds for each of 1 candidates, totalling 10 fits\n",
            "[CV] criterion=gini, max_depth=5, max_features=auto, min_samples_leaf=2, min_samples_split=2, n_estimators=10 \n",
            "[CV]  criterion=gini, max_depth=5, max_features=auto, min_samples_leaf=2, min_samples_split=2, n_estimators=10, total=   0.0s\n",
            "[CV] criterion=gini, max_depth=5, max_features=auto, min_samples_leaf=2, min_samples_split=2, n_estimators=10 \n",
            "[CV]  criterion=gini, max_depth=5, max_features=auto, min_samples_leaf=2, min_samples_split=2, n_estimators=10, total=   0.0s\n",
            "[CV] criterion=gini, max_depth=5, max_features=auto, min_samples_leaf=2, min_samples_split=2, n_estimators=10 \n",
            "[CV]  criterion=gini, max_depth=5, max_features=auto, min_samples_leaf=2, min_samples_split=2, n_estimators=10, total=   0.0s\n",
            "[CV] criterion=gini, max_depth=5, max_features=auto, min_samples_leaf=2, min_samples_split=2, n_estimators=10 \n",
            "[CV]  criterion=gini, max_depth=5, max_features=auto, min_samples_leaf=2, min_samples_split=2, n_estimators=10, total=   0.0s\n",
            "[CV] criterion=gini, max_depth=5, max_features=auto, min_samples_leaf=2, min_samples_split=2, n_estimators=10 \n",
            "[CV]  criterion=gini, max_depth=5, max_features=auto, min_samples_leaf=2, min_samples_split=2, n_estimators=10, total=   0.0s\n",
            "[CV] criterion=gini, max_depth=5, max_features=auto, min_samples_leaf=2, min_samples_split=2, n_estimators=10 \n",
            "[CV]  criterion=gini, max_depth=5, max_features=auto, min_samples_leaf=2, min_samples_split=2, n_estimators=10, total=   0.0s\n",
            "[CV] criterion=gini, max_depth=5, max_features=auto, min_samples_leaf=2, min_samples_split=2, n_estimators=10 \n",
            "[CV]  criterion=gini, max_depth=5, max_features=auto, min_samples_leaf=2, min_samples_split=2, n_estimators=10, total=   0.0s\n",
            "[CV] criterion=gini, max_depth=5, max_features=auto, min_samples_leaf=2, min_samples_split=2, n_estimators=10 \n",
            "[CV]  criterion=gini, max_depth=5, max_features=auto, min_samples_leaf=2, min_samples_split=2, n_estimators=10, total=   0.0s\n",
            "[CV] criterion=gini, max_depth=5, max_features=auto, min_samples_leaf=2, min_samples_split=2, n_estimators=10 \n",
            "[CV]  criterion=gini, max_depth=5, max_features=auto, min_samples_leaf=2, min_samples_split=2, n_estimators=10, total=   0.0s\n",
            "[CV] criterion=gini, max_depth=5, max_features=auto, min_samples_leaf=2, min_samples_split=2, n_estimators=10 \n",
            "[CV]  criterion=gini, max_depth=5, max_features=auto, min_samples_leaf=2, min_samples_split=2, n_estimators=10, total=   0.0s\n",
            "Fitting 10 folds for each of 1 candidates, totalling 10 fits\n",
            "[CV] criterion=gini, max_depth=5, max_features=auto, min_samples_leaf=2, min_samples_split=2, n_estimators=10 \n",
            "[CV]  criterion=gini, max_depth=5, max_features=auto, min_samples_leaf=2, min_samples_split=2, n_estimators=10, total=   0.0s\n",
            "[CV] criterion=gini, max_depth=5, max_features=auto, min_samples_leaf=2, min_samples_split=2, n_estimators=10 \n",
            "[CV]  criterion=gini, max_depth=5, max_features=auto, min_samples_leaf=2, min_samples_split=2, n_estimators=10, total=   0.0s\n",
            "[CV] criterion=gini, max_depth=5, max_features=auto, min_samples_leaf=2, min_samples_split=2, n_estimators=10 \n",
            "[CV]  criterion=gini, max_depth=5, max_features=auto, min_samples_leaf=2, min_samples_split=2, n_estimators=10, total=   0.0s\n",
            "[CV] criterion=gini, max_depth=5, max_features=auto, min_samples_leaf=2, min_samples_split=2, n_estimators=10 \n",
            "[CV]  criterion=gini, max_depth=5, max_features=auto, min_samples_leaf=2, min_samples_split=2, n_estimators=10, total=   0.0s\n",
            "[CV] criterion=gini, max_depth=5, max_features=auto, min_samples_leaf=2, min_samples_split=2, n_estimators=10 \n",
            "[CV]  criterion=gini, max_depth=5, max_features=auto, min_samples_leaf=2, min_samples_split=2, n_estimators=10, total=   0.0s\n",
            "[CV] criterion=gini, max_depth=5, max_features=auto, min_samples_leaf=2, min_samples_split=2, n_estimators=10 \n",
            "[CV]  criterion=gini, max_depth=5, max_features=auto, min_samples_leaf=2, min_samples_split=2, n_estimators=10, total=   0.0s\n",
            "[CV] criterion=gini, max_depth=5, max_features=auto, min_samples_leaf=2, min_samples_split=2, n_estimators=10 \n",
            "[CV]  criterion=gini, max_depth=5, max_features=auto, min_samples_leaf=2, min_samples_split=2, n_estimators=10, total=   0.0s\n",
            "[CV] criterion=gini, max_depth=5, max_features=auto, min_samples_leaf=2, min_samples_split=2, n_estimators=10 \n",
            "[CV]  criterion=gini, max_depth=5, max_features=auto, min_samples_leaf=2, min_samples_split=2, n_estimators=10, total=   0.0s\n",
            "[CV] criterion=gini, max_depth=5, max_features=auto, min_samples_leaf=2, min_samples_split=2, n_estimators=10 \n",
            "[CV]  criterion=gini, max_depth=5, max_features=auto, min_samples_leaf=2, min_samples_split=2, n_estimators=10, total=   0.0s\n",
            "[CV] criterion=gini, max_depth=5, max_features=auto, min_samples_leaf=2, min_samples_split=2, n_estimators=10 \n"
          ],
          "name": "stdout"
        },
        {
          "output_type": "stream",
          "text": [
            "[Parallel(n_jobs=1)]: Done  10 out of  10 | elapsed:    0.2s finished\n",
            "[Parallel(n_jobs=1)]: Using backend SequentialBackend with 1 concurrent workers.\n",
            "[Parallel(n_jobs=1)]: Done   1 out of   1 | elapsed:    0.0s remaining:    0.0s\n"
          ],
          "name": "stderr"
        },
        {
          "output_type": "stream",
          "text": [
            "[CV]  criterion=gini, max_depth=5, max_features=auto, min_samples_leaf=2, min_samples_split=2, n_estimators=10, total=   0.0s\n",
            "accuracy: 90.14%\n",
            "percision 0.90\n",
            "recall 0.90\n",
            "f1: 0.90\n"
          ],
          "name": "stdout"
        },
        {
          "output_type": "stream",
          "text": [
            "[Parallel(n_jobs=1)]: Done  10 out of  10 | elapsed:    0.2s finished\n",
            "/usr/local/lib/python3.7/dist-packages/sklearn/metrics/_classification.py:1321: UserWarning: Note that pos_label (set to 'positive') is ignored when average != 'binary' (got 'micro'). You may use labels=[pos_label] to specify a single positive class.\n",
            "  % (pos_label, average), UserWarning)\n"
          ],
          "name": "stderr"
        },
        {
          "output_type": "execute_result",
          "data": {
            "text/plain": [
              "{'Accuracy': 0.9, 'f1': 0.9, 'precision': 0.9, 'recall': 0.9}"
            ]
          },
          "metadata": {
            "tags": []
          },
          "execution_count": 76
        }
      ]
    },
    {
      "cell_type": "markdown",
      "metadata": {
        "id": "TpMFN4qz9YPv"
      },
      "source": [
        "Result without hyperparameter tuning"
      ]
    },
    {
      "cell_type": "code",
      "metadata": {
        "colab": {
          "base_uri": "https://localhost:8080/"
        },
        "id": "52dgYl0_HOq4",
        "outputId": "790a7b48-8955-4384-d77a-6bc4bb66b5d0"
      },
      "source": [
        "rs_clf.best_params_"
      ],
      "execution_count": null,
      "outputs": [
        {
          "output_type": "execute_result",
          "data": {
            "text/plain": [
              "{'criterion': 'gini',\n",
              " 'max_depth': 5,\n",
              " 'max_features': 'auto',\n",
              " 'min_samples_leaf': 2,\n",
              " 'min_samples_split': 2,\n",
              " 'n_estimators': 10}"
            ]
          },
          "metadata": {
            "tags": []
          },
          "execution_count": 77
        }
      ]
    },
    {
      "cell_type": "code",
      "metadata": {
        "id": "39QYSyl25qx8",
        "colab": {
          "base_uri": "https://localhost:8080/"
        },
        "outputId": "75416dc4-8116-4072-fb27-e2dbffcd0317"
      },
      "source": [
        "x_train, x_test, y_train, y_test = train_test_split(transfromed_X, y, test_size=0.2)\n",
        "models = {\n",
        "    \"Random Forest\": RandomForestClassifier(),\n",
        "    \"GaussianNB\": GaussianNB(),\n",
        "    \"Linear SVC\": LinearSVC(max_iter=1000000, dual = True),\n",
        "    \"K Neighbours Classifier\": KNeighborsClassifier(),\n",
        "    \"Logistic Regression\": LogisticRegression(),\n",
        "    \"Ada Boost\": AdaBoostClassifier()\n",
        "}\n",
        "\n",
        "def fitAndScore(models, x_train, x_test, y_train, y_test):\n",
        "  np.random.seed(42)\n",
        "  scores = {}\n",
        "  for name, model in models.items():\n",
        "    model.fit(x_train, y_train)\n",
        "    scores[name] = model.score(x_test, y_test)\n",
        "    print(name)\n",
        "    y_preds = model.predict(x_test)\n",
        "    evaluation_pred(y_test, y_preds)\n",
        "  return scores\n",
        "\n",
        "model_scores = fitAndScore(models=models,x_train=x_train,x_test=x_test,y_train=y_train,y_test=y_test)\n",
        "model_scores"
      ],
      "execution_count": null,
      "outputs": [
        {
          "output_type": "stream",
          "text": [
            "Random Forest\n",
            "accuracy: 83.10%\n",
            "percision 0.83\n",
            "recall 0.83\n",
            "f1: 0.83\n",
            "GaussianNB\n",
            "accuracy: 85.92%\n",
            "percision 0.86\n",
            "recall 0.86\n",
            "f1: 0.86\n"
          ],
          "name": "stdout"
        },
        {
          "output_type": "stream",
          "text": [
            "/usr/local/lib/python3.7/dist-packages/sklearn/metrics/_classification.py:1321: UserWarning: Note that pos_label (set to 'positive') is ignored when average != 'binary' (got 'micro'). You may use labels=[pos_label] to specify a single positive class.\n",
            "  % (pos_label, average), UserWarning)\n",
            "/usr/local/lib/python3.7/dist-packages/sklearn/metrics/_classification.py:1321: UserWarning: Note that pos_label (set to 'positive') is ignored when average != 'binary' (got 'micro'). You may use labels=[pos_label] to specify a single positive class.\n",
            "  % (pos_label, average), UserWarning)\n"
          ],
          "name": "stderr"
        },
        {
          "output_type": "stream",
          "text": [
            "Linear SVC\n",
            "accuracy: 83.10%\n",
            "percision 0.83\n",
            "recall 0.83\n",
            "f1: 0.83\n",
            "K Neighbours Classifier\n",
            "accuracy: 77.46%\n",
            "percision 0.77\n",
            "recall 0.77\n",
            "f1: 0.77\n",
            "Logistic Regression\n",
            "accuracy: 85.92%\n",
            "percision 0.86\n",
            "recall 0.86\n",
            "f1: 0.86\n",
            "Ada Boost\n",
            "accuracy: 56.34%\n",
            "percision 0.56\n",
            "recall 0.56\n",
            "f1: 0.56\n"
          ],
          "name": "stdout"
        },
        {
          "output_type": "stream",
          "text": [
            "/usr/local/lib/python3.7/dist-packages/sklearn/metrics/_classification.py:1321: UserWarning: Note that pos_label (set to 'positive') is ignored when average != 'binary' (got 'micro'). You may use labels=[pos_label] to specify a single positive class.\n",
            "  % (pos_label, average), UserWarning)\n",
            "/usr/local/lib/python3.7/dist-packages/sklearn/metrics/_classification.py:1321: UserWarning: Note that pos_label (set to 'positive') is ignored when average != 'binary' (got 'micro'). You may use labels=[pos_label] to specify a single positive class.\n",
            "  % (pos_label, average), UserWarning)\n",
            "/usr/local/lib/python3.7/dist-packages/sklearn/linear_model/_logistic.py:940: ConvergenceWarning: lbfgs failed to converge (status=1):\n",
            "STOP: TOTAL NO. of ITERATIONS REACHED LIMIT.\n",
            "\n",
            "Increase the number of iterations (max_iter) or scale the data as shown in:\n",
            "    https://scikit-learn.org/stable/modules/preprocessing.html\n",
            "Please also refer to the documentation for alternative solver options:\n",
            "    https://scikit-learn.org/stable/modules/linear_model.html#logistic-regression\n",
            "  extra_warning_msg=_LOGISTIC_SOLVER_CONVERGENCE_MSG)\n",
            "/usr/local/lib/python3.7/dist-packages/sklearn/metrics/_classification.py:1321: UserWarning: Note that pos_label (set to 'positive') is ignored when average != 'binary' (got 'micro'). You may use labels=[pos_label] to specify a single positive class.\n",
            "  % (pos_label, average), UserWarning)\n",
            "/usr/local/lib/python3.7/dist-packages/sklearn/metrics/_classification.py:1321: UserWarning: Note that pos_label (set to 'positive') is ignored when average != 'binary' (got 'micro'). You may use labels=[pos_label] to specify a single positive class.\n",
            "  % (pos_label, average), UserWarning)\n"
          ],
          "name": "stderr"
        },
        {
          "output_type": "execute_result",
          "data": {
            "text/plain": [
              "{'Ada Boost': 0.5633802816901409,\n",
              " 'GaussianNB': 0.8591549295774648,\n",
              " 'K Neighbours Classifier': 0.7746478873239436,\n",
              " 'Linear SVC': 0.8309859154929577,\n",
              " 'Logistic Regression': 0.8591549295774648,\n",
              " 'Random Forest': 0.8309859154929577}"
            ]
          },
          "metadata": {
            "tags": []
          },
          "execution_count": 78
        }
      ]
    },
    {
      "cell_type": "markdown",
      "metadata": {
        "id": "kaMx0Tf_9gZA"
      },
      "source": [
        "Result after hyper-parameter tunning"
      ]
    },
    {
      "cell_type": "code",
      "metadata": {
        "id": "WV1aBn7qmQXC",
        "colab": {
          "base_uri": "https://localhost:8080/"
        },
        "outputId": "93f3cc2f-2f59-42ca-fb51-57e240f8c5fa"
      },
      "source": [
        "x_train, x_test, y_train, y_test = train_test_split(transfromed_X, y, test_size=0.2)\n",
        "models = {\n",
        "    \"Random Forest\": rs_clf,\n",
        "    \"GaussianNB\": cv_gnb,\n",
        "    \"Linear SVC\": cv_svm,\n",
        "    \"K Neighbours Classifier\": cv_kn,\n",
        "    \"Logistic Regression\": cv_lr,\n",
        "    \"Ada Boost\": cv_ad\n",
        "}\n",
        "\n",
        "def fitAndScore(models, x_train, x_test, y_train, y_test):\n",
        "  np.random.seed(42)\n",
        "  scores = {}\n",
        "  for name, model in models.items():\n",
        "    model.fit(x_train, y_train)\n",
        "    scores[name] = model.score(x_test, y_test)\n",
        "    print(name)\n",
        "    y_preds = model.predict(x_test)\n",
        "    evaluation_pred(y_test, y_preds)\n",
        "  return scores\n",
        "\n",
        "model_scores = fitAndScore(models=models,x_train=x_train,x_test=x_test,y_train=y_train,y_test=y_test)\n",
        "model_scores"
      ],
      "execution_count": null,
      "outputs": [
        {
          "output_type": "stream",
          "text": [
            "Fitting 10 folds for each of 1 candidates, totalling 10 fits\n",
            "[CV] criterion=gini, max_depth=5, max_features=auto, min_samples_leaf=2, min_samples_split=2, n_estimators=10 \n",
            "[CV]  criterion=gini, max_depth=5, max_features=auto, min_samples_leaf=2, min_samples_split=2, n_estimators=10, total=   0.0s\n",
            "[CV] criterion=gini, max_depth=5, max_features=auto, min_samples_leaf=2, min_samples_split=2, n_estimators=10 \n",
            "[CV]  criterion=gini, max_depth=5, max_features=auto, min_samples_leaf=2, min_samples_split=2, n_estimators=10, total=   0.0s\n",
            "[CV] criterion=gini, max_depth=5, max_features=auto, min_samples_leaf=2, min_samples_split=2, n_estimators=10 \n",
            "[CV]  criterion=gini, max_depth=5, max_features=auto, min_samples_leaf=2, min_samples_split=2, n_estimators=10, total=   0.0s\n",
            "[CV] criterion=gini, max_depth=5, max_features=auto, min_samples_leaf=2, min_samples_split=2, n_estimators=10 \n",
            "[CV]  criterion=gini, max_depth=5, max_features=auto, min_samples_leaf=2, min_samples_split=2, n_estimators=10, total=   0.0s\n",
            "[CV] criterion=gini, max_depth=5, max_features=auto, min_samples_leaf=2, min_samples_split=2, n_estimators=10 \n",
            "[CV]  criterion=gini, max_depth=5, max_features=auto, min_samples_leaf=2, min_samples_split=2, n_estimators=10, total=   0.0s\n",
            "[CV] criterion=gini, max_depth=5, max_features=auto, min_samples_leaf=2, min_samples_split=2, n_estimators=10 \n",
            "[CV]  criterion=gini, max_depth=5, max_features=auto, min_samples_leaf=2, min_samples_split=2, n_estimators=10, total=   0.0s\n",
            "[CV] criterion=gini, max_depth=5, max_features=auto, min_samples_leaf=2, min_samples_split=2, n_estimators=10 \n",
            "[CV]  criterion=gini, max_depth=5, max_features=auto, min_samples_leaf=2, min_samples_split=2, n_estimators=10, total=   0.0s\n",
            "[CV] criterion=gini, max_depth=5, max_features=auto, min_samples_leaf=2, min_samples_split=2, n_estimators=10 \n",
            "[CV]  criterion=gini, max_depth=5, max_features=auto, min_samples_leaf=2, min_samples_split=2, n_estimators=10, total=   0.0s\n",
            "[CV] criterion=gini, max_depth=5, max_features=auto, min_samples_leaf=2, min_samples_split=2, n_estimators=10 \n"
          ],
          "name": "stdout"
        },
        {
          "output_type": "stream",
          "text": [
            "[Parallel(n_jobs=1)]: Using backend SequentialBackend with 1 concurrent workers.\n",
            "[Parallel(n_jobs=1)]: Done   1 out of   1 | elapsed:    0.0s remaining:    0.0s\n"
          ],
          "name": "stderr"
        },
        {
          "output_type": "stream",
          "text": [
            "[CV]  criterion=gini, max_depth=5, max_features=auto, min_samples_leaf=2, min_samples_split=2, n_estimators=10, total=   0.0s\n",
            "[CV] criterion=gini, max_depth=5, max_features=auto, min_samples_leaf=2, min_samples_split=2, n_estimators=10 \n",
            "[CV]  criterion=gini, max_depth=5, max_features=auto, min_samples_leaf=2, min_samples_split=2, n_estimators=10, total=   0.0s\n",
            "Random Forest\n",
            "accuracy: 90.14%\n",
            "percision 0.90\n",
            "recall 0.90\n",
            "f1: 0.90\n",
            "Fitting 5 folds for each of 1 candidates, totalling 5 fits\n",
            "[CV] priors=None, var_smoothing=1e-09 ................................\n",
            "[CV] ................. priors=None, var_smoothing=1e-09, total=   0.0s\n",
            "[CV] priors=None, var_smoothing=1e-09 ................................\n",
            "[CV] ................. priors=None, var_smoothing=1e-09, total=   0.0s\n",
            "[CV] priors=None, var_smoothing=1e-09 ................................\n",
            "[CV] ................. priors=None, var_smoothing=1e-09, total=   0.0s\n",
            "[CV] priors=None, var_smoothing=1e-09 ................................\n",
            "[CV] ................. priors=None, var_smoothing=1e-09, total=   0.0s\n",
            "[CV] priors=None, var_smoothing=1e-09 ................................\n",
            "[CV] ................. priors=None, var_smoothing=1e-09, total=   0.0s\n",
            "GaussianNB\n",
            "accuracy: 91.55%\n",
            "percision 0.92\n",
            "recall 0.92\n",
            "f1: 0.92\n",
            "Fitting 5 folds for each of 1 candidates, totalling 5 fits\n",
            "[CV] C=400, dual=False, loss=squared_hinge, multi_class=ovr, tol=1e-08 \n",
            "[CV]  C=400, dual=False, loss=squared_hinge, multi_class=ovr, tol=1e-08, total=   0.0s\n",
            "[CV] C=400, dual=False, loss=squared_hinge, multi_class=ovr, tol=1e-08 \n",
            "[CV]  C=400, dual=False, loss=squared_hinge, multi_class=ovr, tol=1e-08, total=   0.0s\n",
            "[CV] C=400, dual=False, loss=squared_hinge, multi_class=ovr, tol=1e-08 \n",
            "[CV]  C=400, dual=False, loss=squared_hinge, multi_class=ovr, tol=1e-08, total=   0.0s\n",
            "[CV] C=400, dual=False, loss=squared_hinge, multi_class=ovr, tol=1e-08 \n",
            "[CV]  C=400, dual=False, loss=squared_hinge, multi_class=ovr, tol=1e-08, total=   0.0s\n",
            "[CV] C=400, dual=False, loss=squared_hinge, multi_class=ovr, tol=1e-08 \n",
            "[CV]  C=400, dual=False, loss=squared_hinge, multi_class=ovr, tol=1e-08, total=   0.0s\n",
            "Linear SVC\n",
            "accuracy: 92.96%\n",
            "percision 0.93\n",
            "recall 0.93\n",
            "f1: 0.93\n",
            "Fitting 5 folds for each of 2 candidates, totalling 10 fits\n",
            "[CV] algorithm=auto, leaf_size=10, metric=manhattan, n_jobs=-1, n_neighbors=10, p=1, weights=distance \n",
            "[CV]  algorithm=auto, leaf_size=10, metric=manhattan, n_jobs=-1, n_neighbors=10, p=1, weights=distance, total=   0.0s\n",
            "[CV] algorithm=auto, leaf_size=10, metric=manhattan, n_jobs=-1, n_neighbors=10, p=1, weights=distance \n",
            "[CV]  algorithm=auto, leaf_size=10, metric=manhattan, n_jobs=-1, n_neighbors=10, p=1, weights=distance, total=   0.0s\n",
            "[CV] algorithm=auto, leaf_size=10, metric=manhattan, n_jobs=-1, n_neighbors=10, p=1, weights=distance \n",
            "[CV]  algorithm=auto, leaf_size=10, metric=manhattan, n_jobs=-1, n_neighbors=10, p=1, weights=distance, total=   0.0s\n",
            "[CV] algorithm=auto, leaf_size=10, metric=manhattan, n_jobs=-1, n_neighbors=10, p=1, weights=distance \n",
            "[CV]  algorithm=auto, leaf_size=10, metric=manhattan, n_jobs=-1, n_neighbors=10, p=1, weights=distance, total=   0.0s\n",
            "[CV] algorithm=auto, leaf_size=10, metric=manhattan, n_jobs=-1, n_neighbors=10, p=1, weights=distance \n",
            "[CV]  algorithm=auto, leaf_size=10, metric=manhattan, n_jobs=-1, n_neighbors=10, p=1, weights=distance, total=   0.0s\n",
            "[CV] algorithm=auto, leaf_size=10, metric=manhattan, n_jobs=-1, n_neighbors=10, p=2, weights=distance \n",
            "[CV]  algorithm=auto, leaf_size=10, metric=manhattan, n_jobs=-1, n_neighbors=10, p=2, weights=distance, total=   0.0s\n",
            "[CV] algorithm=auto, leaf_size=10, metric=manhattan, n_jobs=-1, n_neighbors=10, p=2, weights=distance \n",
            "[CV]  algorithm=auto, leaf_size=10, metric=manhattan, n_jobs=-1, n_neighbors=10, p=2, weights=distance, total=   0.0s\n",
            "[CV] algorithm=auto, leaf_size=10, metric=manhattan, n_jobs=-1, n_neighbors=10, p=2, weights=distance \n",
            "[CV]  algorithm=auto, leaf_size=10, metric=manhattan, n_jobs=-1, n_neighbors=10, p=2, weights=distance, total=   0.0s\n",
            "[CV] algorithm=auto, leaf_size=10, metric=manhattan, n_jobs=-1, n_neighbors=10, p=2, weights=distance \n"
          ],
          "name": "stdout"
        },
        {
          "output_type": "stream",
          "text": [
            "[Parallel(n_jobs=1)]: Done  10 out of  10 | elapsed:    0.2s finished\n",
            "/usr/local/lib/python3.7/dist-packages/sklearn/metrics/_classification.py:1321: UserWarning: Note that pos_label (set to 'positive') is ignored when average != 'binary' (got 'micro'). You may use labels=[pos_label] to specify a single positive class.\n",
            "  % (pos_label, average), UserWarning)\n",
            "[Parallel(n_jobs=1)]: Using backend SequentialBackend with 1 concurrent workers.\n",
            "[Parallel(n_jobs=1)]: Done   1 out of   1 | elapsed:    0.0s remaining:    0.0s\n",
            "[Parallel(n_jobs=1)]: Done   5 out of   5 | elapsed:    0.0s finished\n",
            "/usr/local/lib/python3.7/dist-packages/sklearn/metrics/_classification.py:1321: UserWarning: Note that pos_label (set to 'positive') is ignored when average != 'binary' (got 'micro'). You may use labels=[pos_label] to specify a single positive class.\n",
            "  % (pos_label, average), UserWarning)\n",
            "[Parallel(n_jobs=1)]: Using backend SequentialBackend with 1 concurrent workers.\n",
            "[Parallel(n_jobs=1)]: Done   1 out of   1 | elapsed:    0.0s remaining:    0.0s\n",
            "[Parallel(n_jobs=1)]: Done   5 out of   5 | elapsed:    0.0s finished\n",
            "/usr/local/lib/python3.7/dist-packages/sklearn/metrics/_classification.py:1321: UserWarning: Note that pos_label (set to 'positive') is ignored when average != 'binary' (got 'micro'). You may use labels=[pos_label] to specify a single positive class.\n",
            "  % (pos_label, average), UserWarning)\n",
            "[Parallel(n_jobs=1)]: Using backend SequentialBackend with 1 concurrent workers.\n",
            "[Parallel(n_jobs=1)]: Done   1 out of   1 | elapsed:    0.0s remaining:    0.0s\n"
          ],
          "name": "stderr"
        },
        {
          "output_type": "stream",
          "text": [
            "[CV]  algorithm=auto, leaf_size=10, metric=manhattan, n_jobs=-1, n_neighbors=10, p=2, weights=distance, total=   0.0s\n",
            "[CV] algorithm=auto, leaf_size=10, metric=manhattan, n_jobs=-1, n_neighbors=10, p=2, weights=distance \n",
            "[CV]  algorithm=auto, leaf_size=10, metric=manhattan, n_jobs=-1, n_neighbors=10, p=2, weights=distance, total=   0.0s\n",
            "K Neighbours Classifier\n"
          ],
          "name": "stdout"
        },
        {
          "output_type": "stream",
          "text": [
            "[Parallel(n_jobs=1)]: Done  10 out of  10 | elapsed:    0.1s finished\n",
            "/usr/local/lib/python3.7/dist-packages/sklearn/metrics/_classification.py:1321: UserWarning: Note that pos_label (set to 'positive') is ignored when average != 'binary' (got 'micro'). You may use labels=[pos_label] to specify a single positive class.\n",
            "  % (pos_label, average), UserWarning)\n",
            "[Parallel(n_jobs=1)]: Using backend SequentialBackend with 1 concurrent workers.\n",
            "[Parallel(n_jobs=1)]: Done   1 out of   1 | elapsed:    0.0s remaining:    0.0s\n",
            "[Parallel(n_jobs=1)]: Done   5 out of   5 | elapsed:    0.0s finished\n",
            "/usr/local/lib/python3.7/dist-packages/sklearn/metrics/_classification.py:1321: UserWarning: Note that pos_label (set to 'positive') is ignored when average != 'binary' (got 'micro'). You may use labels=[pos_label] to specify a single positive class.\n",
            "  % (pos_label, average), UserWarning)\n",
            "[Parallel(n_jobs=1)]: Using backend SequentialBackend with 1 concurrent workers.\n"
          ],
          "name": "stderr"
        },
        {
          "output_type": "stream",
          "text": [
            "accuracy: 80.28%\n",
            "percision 0.80\n",
            "recall 0.80\n",
            "f1: 0.80\n",
            "Fitting 5 folds for each of 1 candidates, totalling 5 fits\n",
            "[CV] C=275, class_weight=balanced, fit_intercept=True, penalty=l2, solver=liblinear, tol=1e-06 \n",
            "[CV]  C=275, class_weight=balanced, fit_intercept=True, penalty=l2, solver=liblinear, tol=1e-06, total=   0.0s\n",
            "[CV] C=275, class_weight=balanced, fit_intercept=True, penalty=l2, solver=liblinear, tol=1e-06 \n",
            "[CV]  C=275, class_weight=balanced, fit_intercept=True, penalty=l2, solver=liblinear, tol=1e-06, total=   0.0s\n",
            "[CV] C=275, class_weight=balanced, fit_intercept=True, penalty=l2, solver=liblinear, tol=1e-06 \n",
            "[CV]  C=275, class_weight=balanced, fit_intercept=True, penalty=l2, solver=liblinear, tol=1e-06, total=   0.0s\n",
            "[CV] C=275, class_weight=balanced, fit_intercept=True, penalty=l2, solver=liblinear, tol=1e-06 \n",
            "[CV]  C=275, class_weight=balanced, fit_intercept=True, penalty=l2, solver=liblinear, tol=1e-06, total=   0.0s\n",
            "[CV] C=275, class_weight=balanced, fit_intercept=True, penalty=l2, solver=liblinear, tol=1e-06 \n",
            "[CV]  C=275, class_weight=balanced, fit_intercept=True, penalty=l2, solver=liblinear, tol=1e-06, total=   0.0s\n",
            "Logistic Regression\n",
            "accuracy: 94.37%\n",
            "percision 0.94\n",
            "recall 0.94\n",
            "f1: 0.94\n",
            "Fitting 5 folds for each of 1 candidates, totalling 5 fits\n",
            "[CV] algorithm=SAMME, base_estimator=RandomForestClassifier(bootstrap=True, ccp_alpha=0.0, class_weight=None,\n",
            "                       criterion='gini', max_depth=10, max_features='auto',\n",
            "                       max_leaf_nodes=None, max_samples=None,\n",
            "                       min_impurity_decrease=0.0, min_impurity_split=None,\n",
            "                       min_samples_leaf=1, min_samples_split=4,\n",
            "                       min_weight_fraction_leaf=0.0, n_estimators=10,\n",
            "                       n_jobs=None, oob_score=False, random_state=None,\n",
            "                       verbose=0, warm_start=False), n_estimators=1200 \n",
            "[CV]  algorithm=SAMME, base_estimator=RandomForestClassifier(bootstrap=True, ccp_alpha=0.0, class_weight=None,\n",
            "                       criterion='gini', max_depth=10, max_features='auto',\n",
            "                       max_leaf_nodes=None, max_samples=None,\n",
            "                       min_impurity_decrease=0.0, min_impurity_split=None,\n",
            "                       min_samples_leaf=1, min_samples_split=4,\n",
            "                       min_weight_fraction_leaf=0.0, n_estimators=10,\n",
            "                       n_jobs=None, oob_score=False, random_state=None,\n",
            "                       verbose=0, warm_start=False), n_estimators=1200, total=   0.3s\n",
            "[CV] algorithm=SAMME, base_estimator=RandomForestClassifier(bootstrap=True, ccp_alpha=0.0, class_weight=None,\n",
            "                       criterion='gini', max_depth=10, max_features='auto',\n",
            "                       max_leaf_nodes=None, max_samples=None,\n",
            "                       min_impurity_decrease=0.0, min_impurity_split=None,\n",
            "                       min_samples_leaf=1, min_samples_split=4,\n",
            "                       min_weight_fraction_leaf=0.0, n_estimators=10,\n",
            "                       n_jobs=None, oob_score=False, random_state=None,\n",
            "                       verbose=0, warm_start=False), n_estimators=1200 \n"
          ],
          "name": "stdout"
        },
        {
          "output_type": "stream",
          "text": [
            "[Parallel(n_jobs=1)]: Done   1 out of   1 | elapsed:    0.3s remaining:    0.0s\n"
          ],
          "name": "stderr"
        },
        {
          "output_type": "stream",
          "text": [
            "[CV]  algorithm=SAMME, base_estimator=RandomForestClassifier(bootstrap=True, ccp_alpha=0.0, class_weight=None,\n",
            "                       criterion='gini', max_depth=10, max_features='auto',\n",
            "                       max_leaf_nodes=None, max_samples=None,\n",
            "                       min_impurity_decrease=0.0, min_impurity_split=None,\n",
            "                       min_samples_leaf=1, min_samples_split=4,\n",
            "                       min_weight_fraction_leaf=0.0, n_estimators=10,\n",
            "                       n_jobs=None, oob_score=False, random_state=None,\n",
            "                       verbose=0, warm_start=False), n_estimators=1200, total=   0.6s\n",
            "[CV] algorithm=SAMME, base_estimator=RandomForestClassifier(bootstrap=True, ccp_alpha=0.0, class_weight=None,\n",
            "                       criterion='gini', max_depth=10, max_features='auto',\n",
            "                       max_leaf_nodes=None, max_samples=None,\n",
            "                       min_impurity_decrease=0.0, min_impurity_split=None,\n",
            "                       min_samples_leaf=1, min_samples_split=4,\n",
            "                       min_weight_fraction_leaf=0.0, n_estimators=10,\n",
            "                       n_jobs=None, oob_score=False, random_state=None,\n",
            "                       verbose=0, warm_start=False), n_estimators=1200 \n",
            "[CV]  algorithm=SAMME, base_estimator=RandomForestClassifier(bootstrap=True, ccp_alpha=0.0, class_weight=None,\n",
            "                       criterion='gini', max_depth=10, max_features='auto',\n",
            "                       max_leaf_nodes=None, max_samples=None,\n",
            "                       min_impurity_decrease=0.0, min_impurity_split=None,\n",
            "                       min_samples_leaf=1, min_samples_split=4,\n",
            "                       min_weight_fraction_leaf=0.0, n_estimators=10,\n",
            "                       n_jobs=None, oob_score=False, random_state=None,\n",
            "                       verbose=0, warm_start=False), n_estimators=1200, total=   0.3s\n",
            "[CV] algorithm=SAMME, base_estimator=RandomForestClassifier(bootstrap=True, ccp_alpha=0.0, class_weight=None,\n",
            "                       criterion='gini', max_depth=10, max_features='auto',\n",
            "                       max_leaf_nodes=None, max_samples=None,\n",
            "                       min_impurity_decrease=0.0, min_impurity_split=None,\n",
            "                       min_samples_leaf=1, min_samples_split=4,\n",
            "                       min_weight_fraction_leaf=0.0, n_estimators=10,\n",
            "                       n_jobs=None, oob_score=False, random_state=None,\n",
            "                       verbose=0, warm_start=False), n_estimators=1200 \n",
            "[CV]  algorithm=SAMME, base_estimator=RandomForestClassifier(bootstrap=True, ccp_alpha=0.0, class_weight=None,\n",
            "                       criterion='gini', max_depth=10, max_features='auto',\n",
            "                       max_leaf_nodes=None, max_samples=None,\n",
            "                       min_impurity_decrease=0.0, min_impurity_split=None,\n",
            "                       min_samples_leaf=1, min_samples_split=4,\n",
            "                       min_weight_fraction_leaf=0.0, n_estimators=10,\n",
            "                       n_jobs=None, oob_score=False, random_state=None,\n",
            "                       verbose=0, warm_start=False), n_estimators=1200, total=   1.6s\n",
            "[CV] algorithm=SAMME, base_estimator=RandomForestClassifier(bootstrap=True, ccp_alpha=0.0, class_weight=None,\n",
            "                       criterion='gini', max_depth=10, max_features='auto',\n",
            "                       max_leaf_nodes=None, max_samples=None,\n",
            "                       min_impurity_decrease=0.0, min_impurity_split=None,\n",
            "                       min_samples_leaf=1, min_samples_split=4,\n",
            "                       min_weight_fraction_leaf=0.0, n_estimators=10,\n",
            "                       n_jobs=None, oob_score=False, random_state=None,\n",
            "                       verbose=0, warm_start=False), n_estimators=1200 \n",
            "[CV]  algorithm=SAMME, base_estimator=RandomForestClassifier(bootstrap=True, ccp_alpha=0.0, class_weight=None,\n",
            "                       criterion='gini', max_depth=10, max_features='auto',\n",
            "                       max_leaf_nodes=None, max_samples=None,\n",
            "                       min_impurity_decrease=0.0, min_impurity_split=None,\n",
            "                       min_samples_leaf=1, min_samples_split=4,\n",
            "                       min_weight_fraction_leaf=0.0, n_estimators=10,\n",
            "                       n_jobs=None, oob_score=False, random_state=None,\n",
            "                       verbose=0, warm_start=False), n_estimators=1200, total=   0.8s\n",
            "Ada Boost\n",
            "accuracy: 91.55%\n",
            "percision 0.92\n",
            "recall 0.92\n",
            "f1: 0.92\n"
          ],
          "name": "stdout"
        },
        {
          "output_type": "stream",
          "text": [
            "[Parallel(n_jobs=1)]: Done   5 out of   5 | elapsed:    3.6s finished\n",
            "/usr/local/lib/python3.7/dist-packages/sklearn/metrics/_classification.py:1321: UserWarning: Note that pos_label (set to 'positive') is ignored when average != 'binary' (got 'micro'). You may use labels=[pos_label] to specify a single positive class.\n",
            "  % (pos_label, average), UserWarning)\n"
          ],
          "name": "stderr"
        },
        {
          "output_type": "execute_result",
          "data": {
            "text/plain": [
              "{'Ada Boost': 0.9154929577464789,\n",
              " 'GaussianNB': 0.9154929577464789,\n",
              " 'K Neighbours Classifier': 0.8028169014084507,\n",
              " 'Linear SVC': 0.9295774647887324,\n",
              " 'Logistic Regression': 0.9436619718309859,\n",
              " 'Random Forest': 0.9014084507042254}"
            ]
          },
          "metadata": {
            "tags": []
          },
          "execution_count": 79
        }
      ]
    },
    {
      "cell_type": "markdown",
      "metadata": {
        "id": "tneifsMM9sAu"
      },
      "source": [
        "Tunned models"
      ]
    },
    {
      "cell_type": "code",
      "metadata": {
        "id": "dXVpWnUjzPbO"
      },
      "source": [
        "from sklearn.feature_selection import SelectFromModel\n",
        "clf = RandomForestClassifier( bootstrap=True, ccp_alpha=0.0, class_weight=None,\n",
        "                                                criterion='gini', max_depth=10, max_features='auto',\n",
        "                                                max_leaf_nodes=None, max_samples=None,\n",
        "                                                min_impurity_decrease=0.0,\n",
        "                                                min_samples_leaf=1, min_samples_split=4,\n",
        "                                                min_weight_fraction_leaf=0.0, n_estimators=10,\n",
        "                                                n_jobs=None, oob_score=False, random_state=None,\n",
        "                                                verbose=0, warm_start=False)\n",
        "gnb = GaussianNB(priors= None, var_smoothing= 1e-08)\n",
        "lsvc = LinearSVC(C= 500,\n",
        "                dual= False,\n",
        "                loss= 'squared_hinge',\n",
        "                multi_class= 'ovr',\n",
        "                tol= 1e-08)\n",
        "\n",
        "lg =  LogisticRegression(C= 225,\n",
        "                      class_weight= 'balanced',\n",
        "                      fit_intercept= True,\n",
        "                      penalty= 'l2',\n",
        "                      solver= 'liblinear',\n",
        "                      tol= 1e-06)\n",
        "adb =  AdaBoostClassifier(algorithm = 'SAMME',\n",
        "                        base_estimator = RandomForestClassifier(bootstrap=True, ccp_alpha=0.0, class_weight=None,\n",
        "                                                criterion='gini', max_depth=10, max_features='auto',\n",
        "                                                max_leaf_nodes=None, max_samples=None,\n",
        "                                                min_impurity_decrease=0.0,\n",
        "                                                min_samples_leaf=1, min_samples_split=4,\n",
        "                                                min_weight_fraction_leaf=0.0, n_estimators=10,\n",
        "                                                n_jobs=None, oob_score=False, random_state=None,\n",
        "                                                verbose=0, warm_start=False),\n",
        "                        n_estimators = 1200)\n",
        "knc= KNeighborsClassifier(algorithm= 'auto',\n",
        "      leaf_size= 10,\n",
        "      metric= 'manhattan',\n",
        "      n_jobs= -1,\n",
        "      n_neighbors= 10,\n",
        "      p= 1,\n",
        "      weights= 'distance')"
      ],
      "execution_count": null,
      "outputs": []
    },
    {
      "cell_type": "markdown",
      "metadata": {
        "id": "eXmH0WUt9xWm"
      },
      "source": [
        "A method for ploting ROC curve"
      ]
    },
    {
      "cell_type": "code",
      "metadata": {
        "id": "yVzhicCjBQM-"
      },
      "source": [
        "import matplotlib.pyplot as plt\n",
        "from sklearn.metrics import roc_curve\n",
        "from sklearn.metrics import roc_auc_score\n",
        "def plot_roc_curve(fpr, tpr, name, val):\n",
        "  plt.plot(fpr, tpr, color = \"orange\", label=\"AUC ({})\".format(val))\n",
        "  plt.plot([0,1],[0,1], color = \"darkblue\",linestyle=\"--\",label=\"Guessing\")\n",
        "  plt.xlabel(\"False possitive rate\")\n",
        "  plt.ylabel(\"True possitive rate\")\n",
        "  plt.title(\"ROC Curve (Without MRI data): \" + name)\n",
        "  plt.legend()\n",
        "  plt.show()"
      ],
      "execution_count": null,
      "outputs": []
    },
    {
      "cell_type": "markdown",
      "metadata": {
        "id": "IcGLh15D92y3"
      },
      "source": [
        "ROC curve of RandomForestClassifier"
      ]
    },
    {
      "cell_type": "code",
      "metadata": {
        "id": "0QHT1UeH_nyW",
        "colab": {
          "base_uri": "https://localhost:8080/",
          "height": 295
        },
        "outputId": "8561ead9-b815-443d-9261-c8b234a13225"
      },
      "source": [
        "clf.fit(x_train, y_train)\n",
        "y_prob = clf.predict_proba(x_test)\n",
        "y_prob_pos = y_prob[:, 1]\n",
        "fpr, tpr, threshold = roc_curve(y_test, y_prob_pos, pos_label='Demented')\n",
        "val = roc_auc_score(y_test, y_prob, multi_class='ovr')\n",
        "plot_roc_curve(fpr,tpr, 'Random Forest Classifier', val)"
      ],
      "execution_count": null,
      "outputs": [
        {
          "output_type": "display_data",
          "data": {
            "image/png": "[encoded data removed]",
            "text/plain": [
              "<Figure size 432x288 with 1 Axes>"
            ]
          },
          "metadata": {
            "tags": [],
            "needs_background": "light"
          }
        }
      ]
    },
    {
      "cell_type": "code",
      "metadata": {
        "colab": {
          "base_uri": "https://localhost:8080/",
          "height": 295
        },
        "id": "2OyRK-UYNsP3",
        "outputId": "1edfe227-0b6e-4f14-822d-b83a2ad7e58d"
      },
      "source": [
        "knc.fit(x_train, y_train)\n",
        "y_prob = knc.predict_proba(x_test)\n",
        "y_prob_pos = y_prob[:, 1]\n",
        "fpr, tpr, threshold = roc_curve(y_test, y_prob_pos, pos_label='Demented')\n",
        "val = roc_auc_score(y_test, y_prob, multi_class='ovr')\n",
        "plot_roc_curve(fpr,tpr, 'KNeighbours Classifier', val)"
      ],
      "execution_count": null,
      "outputs": [
        {
          "output_type": "display_data",
          "data": {
            "image/png": "[encoded data removed]",
            "text/plain": [
              "<Figure size 432x288 with 1 Axes>"
            ]
          },
          "metadata": {
            "needs_background": "light"
          }
        }
      ]
    },
    {
      "cell_type": "markdown",
      "metadata": {
        "id": "ZN3qQf2E98Dt"
      },
      "source": [
        "ROC curve of GaussianNB"
      ]
    },
    {
      "cell_type": "code",
      "metadata": {
        "id": "KtVIKCaVJ1Ka",
        "colab": {
          "base_uri": "https://localhost:8080/",
          "height": 533
        },
        "outputId": "5d0e5059-c2ef-46a2-8ce0-6e60c28079b5"
      },
      "source": [
        "cv_gnb.fit(x_train, y_train)\n",
        "y_prob = cv_gnb.predict_proba(x_test)\n",
        "y_prob_pos = y_prob[:, 1]\n",
        "fpr, tpr, threshold = roc_curve(y_test, y_prob_pos, pos_label='Demented')\n",
        "val = roc_auc_score(y_test, y_prob, multi_class='ovr')\n",
        "plot_roc_curve(fpr,tpr, 'GaussianNB', val)"
      ],
      "execution_count": null,
      "outputs": [
        {
          "output_type": "stream",
          "text": [
            "Fitting 5 folds for each of 1 candidates, totalling 5 fits\n",
            "[CV] priors=None, var_smoothing=1e-09 ................................\n",
            "[CV] ................. priors=None, var_smoothing=1e-09, total=   0.0s\n",
            "[CV] priors=None, var_smoothing=1e-09 ................................\n",
            "[CV] ................. priors=None, var_smoothing=1e-09, total=   0.0s\n",
            "[CV] priors=None, var_smoothing=1e-09 ................................\n",
            "[CV] ................. priors=None, var_smoothing=1e-09, total=   0.0s\n",
            "[CV] priors=None, var_smoothing=1e-09 ................................\n",
            "[CV] ................. priors=None, var_smoothing=1e-09, total=   0.0s\n",
            "[CV] priors=None, var_smoothing=1e-09 ................................\n",
            "[CV] ................. priors=None, var_smoothing=1e-09, total=   0.0s\n"
          ],
          "name": "stdout"
        },
        {
          "output_type": "stream",
          "text": [
            "[Parallel(n_jobs=1)]: Using backend SequentialBackend with 1 concurrent workers.\n",
            "[Parallel(n_jobs=1)]: Done   1 out of   1 | elapsed:    0.0s remaining:    0.0s\n",
            "[Parallel(n_jobs=1)]: Done   5 out of   5 | elapsed:    0.0s finished\n"
          ],
          "name": "stderr"
        },
        {
          "output_type": "display_data",
          "data": {
            "image/png": "[encoded data removed]",
            "text/plain": [
              "<Figure size 432x288 with 1 Axes>"
            ]
          },
          "metadata": {
            "tags": [],
            "needs_background": "light"
          }
        }
      ]
    },
    {
      "cell_type": "markdown",
      "metadata": {
        "id": "j51N81Mi-ArW"
      },
      "source": [
        "ROC curve of LogisticRegression"
      ]
    },
    {
      "cell_type": "code",
      "metadata": {
        "id": "2uDo_2Rkkpvy",
        "colab": {
          "base_uri": "https://localhost:8080/",
          "height": 86
        },
        "outputId": "4e1b321a-1eca-4037-cc41-d7b6c904485d"
      },
      "source": [
        "'''import matplotlib.pyplot as plt\n",
        "from sklearn.metrics import roc_curve\n",
        "from sklearn.metrics import roc_auc_score\n",
        "def plot_roc_curve(fprD, tprD, fprN, tprN, name, val):\n",
        "  plt.plot(fprD, tprD, color = \"orange\", label=\"AUC ({})\".format(val))\n",
        "  plt.plot([0,1],[0,1], color = \"darkblue\",linestyle=\"--\",label=\"Guessing\")\n",
        "  plt.plot(fprN, tprN, color = \"red\", label=\"AUC ({})\".format(val))\n",
        "  plt.plot([0,1],[0,1], color = \"darkblue\",linestyle=\"--\",label=\"Guessing\")\n",
        "  plt.xlabel(\"False possitive rate\")\n",
        "  plt.ylabel(\"True possitive rate\")\n",
        "  plt.title(\"ROC Curve (With MRI data)\" + name)\n",
        "  plt.legend()\n",
        "  plt.show()'''"
      ],
      "execution_count": null,
      "outputs": [
        {
          "output_type": "execute_result",
          "data": {
            "application/vnd.google.colaboratory.intrinsic+json": {
              "type": "string"
            },
            "text/plain": [
              "'import matplotlib.pyplot as plt\\nfrom sklearn.metrics import roc_curve\\nfrom sklearn.metrics import roc_auc_score\\ndef plot_roc_curve(fprD, tprD, fprN, tprN, name, val):\\n  plt.plot(fprD, tprD, color = \"orange\", label=\"AUC ({})\".format(val))\\n  plt.plot([0,1],[0,1], color = \"darkblue\",linestyle=\"--\",label=\"Guessing\")\\n  plt.plot(fprN, tprN, color = \"red\", label=\"AUC ({})\".format(val))\\n  plt.plot([0,1],[0,1], color = \"darkblue\",linestyle=\"--\",label=\"Guessing\")\\n  plt.xlabel(\"False possitive rate\")\\n  plt.ylabel(\"True possitive rate\")\\n  plt.title(\"ROC Curve (With MRI data)\" + name)\\n  plt.legend()\\n  plt.show()'"
            ]
          },
          "metadata": {
            "tags": []
          },
          "execution_count": 84
        }
      ]
    },
    {
      "cell_type": "code",
      "metadata": {
        "id": "lxMuZG01J80o",
        "colab": {
          "base_uri": "https://localhost:8080/",
          "height": 295
        },
        "outputId": "5bec38ee-8b49-4486-eb14-7ef4148849f3"
      },
      "source": [
        "lg.fit(x_train, y_train)\n",
        "y_prob = lg.predict_proba(x_test)\n",
        "y_prob_pos = y_prob[:, 1]\n",
        "fpr, tpr, threshold = roc_curve(y_test, y_prob_pos, pos_label='Demented')\n",
        "val = roc_auc_score(y_test, y_prob, multi_class='ovr')\n",
        "plot_roc_curve(fpr,tpr, 'Logistic Regression', val)"
      ],
      "execution_count": null,
      "outputs": [
        {
          "output_type": "display_data",
          "data": {
            "image/png": "[encoded data removed]",
            "text/plain": [
              "<Figure size 432x288 with 1 Axes>"
            ]
          },
          "metadata": {
            "tags": [],
            "needs_background": "light"
          }
        }
      ]
    },
    {
      "cell_type": "markdown",
      "metadata": {
        "id": "Plfya-b1-EOo"
      },
      "source": [
        "ROC curve of AdaBoostClassifier"
      ]
    },
    {
      "cell_type": "code",
      "metadata": {
        "id": "WX3WM2qOKCLo",
        "colab": {
          "base_uri": "https://localhost:8080/",
          "height": 1000
        },
        "outputId": "d18b602a-04e0-4f42-b36c-dc71c3dd3e12"
      },
      "source": [
        "#x_train, x_test, y_train, y_test = train_test_split(transfromed_X, y, test_size=0.2)\n",
        "cv_ad.fit(x_train, y_train)\n",
        "y_prob = cv_ad.predict_proba(x_test)\n",
        "y_prob_pos = y_prob[:, 1]\n",
        "fpr, tpr, threshold = roc_curve(y_test, y_prob_pos, pos_label='Demented')\n",
        "val = roc_auc_score(y_test, y_prob, multi_class='ovr')\n",
        "plot_roc_curve(fpr,tpr, 'AdaBoost Classifier', val)"
      ],
      "execution_count": null,
      "outputs": [
        {
          "output_type": "stream",
          "text": [
            "Fitting 5 folds for each of 1 candidates, totalling 5 fits\n",
            "[CV] algorithm=SAMME, base_estimator=RandomForestClassifier(bootstrap=True, ccp_alpha=0.0, class_weight=None,\n",
            "                       criterion='gini', max_depth=10, max_features='auto',\n",
            "                       max_leaf_nodes=None, max_samples=None,\n",
            "                       min_impurity_decrease=0.0, min_impurity_split=None,\n",
            "                       min_samples_leaf=1, min_samples_split=4,\n",
            "                       min_weight_fraction_leaf=0.0, n_estimators=10,\n",
            "                       n_jobs=None, oob_score=False, random_state=None,\n",
            "                       verbose=0, warm_start=False), n_estimators=1200 \n"
          ],
          "name": "stdout"
        },
        {
          "output_type": "stream",
          "text": [
            "[Parallel(n_jobs=1)]: Using backend SequentialBackend with 1 concurrent workers.\n"
          ],
          "name": "stderr"
        },
        {
          "output_type": "stream",
          "text": [
            "[CV]  algorithm=SAMME, base_estimator=RandomForestClassifier(bootstrap=True, ccp_alpha=0.0, class_weight=None,\n",
            "                       criterion='gini', max_depth=10, max_features='auto',\n",
            "                       max_leaf_nodes=None, max_samples=None,\n",
            "                       min_impurity_decrease=0.0, min_impurity_split=None,\n",
            "                       min_samples_leaf=1, min_samples_split=4,\n",
            "                       min_weight_fraction_leaf=0.0, n_estimators=10,\n",
            "                       n_jobs=None, oob_score=False, random_state=None,\n",
            "                       verbose=0, warm_start=False), n_estimators=1200, total=   0.2s\n",
            "[CV] algorithm=SAMME, base_estimator=RandomForestClassifier(bootstrap=True, ccp_alpha=0.0, class_weight=None,\n",
            "                       criterion='gini', max_depth=10, max_features='auto',\n",
            "                       max_leaf_nodes=None, max_samples=None,\n",
            "                       min_impurity_decrease=0.0, min_impurity_split=None,\n",
            "                       min_samples_leaf=1, min_samples_split=4,\n",
            "                       min_weight_fraction_leaf=0.0, n_estimators=10,\n",
            "                       n_jobs=None, oob_score=False, random_state=None,\n",
            "                       verbose=0, warm_start=False), n_estimators=1200 \n"
          ],
          "name": "stdout"
        },
        {
          "output_type": "stream",
          "text": [
            "[Parallel(n_jobs=1)]: Done   1 out of   1 | elapsed:    0.2s remaining:    0.0s\n"
          ],
          "name": "stderr"
        },
        {
          "output_type": "stream",
          "text": [
            "[CV]  algorithm=SAMME, base_estimator=RandomForestClassifier(bootstrap=True, ccp_alpha=0.0, class_weight=None,\n",
            "                       criterion='gini', max_depth=10, max_features='auto',\n",
            "                       max_leaf_nodes=None, max_samples=None,\n",
            "                       min_impurity_decrease=0.0, min_impurity_split=None,\n",
            "                       min_samples_leaf=1, min_samples_split=4,\n",
            "                       min_weight_fraction_leaf=0.0, n_estimators=10,\n",
            "                       n_jobs=None, oob_score=False, random_state=None,\n",
            "                       verbose=0, warm_start=False), n_estimators=1200, total=   0.3s\n",
            "[CV] algorithm=SAMME, base_estimator=RandomForestClassifier(bootstrap=True, ccp_alpha=0.0, class_weight=None,\n",
            "                       criterion='gini', max_depth=10, max_features='auto',\n",
            "                       max_leaf_nodes=None, max_samples=None,\n",
            "                       min_impurity_decrease=0.0, min_impurity_split=None,\n",
            "                       min_samples_leaf=1, min_samples_split=4,\n",
            "                       min_weight_fraction_leaf=0.0, n_estimators=10,\n",
            "                       n_jobs=None, oob_score=False, random_state=None,\n",
            "                       verbose=0, warm_start=False), n_estimators=1200 \n",
            "[CV]  algorithm=SAMME, base_estimator=RandomForestClassifier(bootstrap=True, ccp_alpha=0.0, class_weight=None,\n",
            "                       criterion='gini', max_depth=10, max_features='auto',\n",
            "                       max_leaf_nodes=None, max_samples=None,\n",
            "                       min_impurity_decrease=0.0, min_impurity_split=None,\n",
            "                       min_samples_leaf=1, min_samples_split=4,\n",
            "                       min_weight_fraction_leaf=0.0, n_estimators=10,\n",
            "                       n_jobs=None, oob_score=False, random_state=None,\n",
            "                       verbose=0, warm_start=False), n_estimators=1200, total=   0.5s\n",
            "[CV] algorithm=SAMME, base_estimator=RandomForestClassifier(bootstrap=True, ccp_alpha=0.0, class_weight=None,\n",
            "                       criterion='gini', max_depth=10, max_features='auto',\n",
            "                       max_leaf_nodes=None, max_samples=None,\n",
            "                       min_impurity_decrease=0.0, min_impurity_split=None,\n",
            "                       min_samples_leaf=1, min_samples_split=4,\n",
            "                       min_weight_fraction_leaf=0.0, n_estimators=10,\n",
            "                       n_jobs=None, oob_score=False, random_state=None,\n",
            "                       verbose=0, warm_start=False), n_estimators=1200 \n",
            "[CV]  algorithm=SAMME, base_estimator=RandomForestClassifier(bootstrap=True, ccp_alpha=0.0, class_weight=None,\n",
            "                       criterion='gini', max_depth=10, max_features='auto',\n",
            "                       max_leaf_nodes=None, max_samples=None,\n",
            "                       min_impurity_decrease=0.0, min_impurity_split=None,\n",
            "                       min_samples_leaf=1, min_samples_split=4,\n",
            "                       min_weight_fraction_leaf=0.0, n_estimators=10,\n",
            "                       n_jobs=None, oob_score=False, random_state=None,\n",
            "                       verbose=0, warm_start=False), n_estimators=1200, total=   0.7s\n",
            "[CV] algorithm=SAMME, base_estimator=RandomForestClassifier(bootstrap=True, ccp_alpha=0.0, class_weight=None,\n",
            "                       criterion='gini', max_depth=10, max_features='auto',\n",
            "                       max_leaf_nodes=None, max_samples=None,\n",
            "                       min_impurity_decrease=0.0, min_impurity_split=None,\n",
            "                       min_samples_leaf=1, min_samples_split=4,\n",
            "                       min_weight_fraction_leaf=0.0, n_estimators=10,\n",
            "                       n_jobs=None, oob_score=False, random_state=None,\n",
            "                       verbose=0, warm_start=False), n_estimators=1200 \n",
            "[CV]  algorithm=SAMME, base_estimator=RandomForestClassifier(bootstrap=True, ccp_alpha=0.0, class_weight=None,\n",
            "                       criterion='gini', max_depth=10, max_features='auto',\n",
            "                       max_leaf_nodes=None, max_samples=None,\n",
            "                       min_impurity_decrease=0.0, min_impurity_split=None,\n",
            "                       min_samples_leaf=1, min_samples_split=4,\n",
            "                       min_weight_fraction_leaf=0.0, n_estimators=10,\n",
            "                       n_jobs=None, oob_score=False, random_state=None,\n",
            "                       verbose=0, warm_start=False), n_estimators=1200, total=   1.4s\n"
          ],
          "name": "stdout"
        },
        {
          "output_type": "stream",
          "text": [
            "[Parallel(n_jobs=1)]: Done   5 out of   5 | elapsed:    3.1s finished\n"
          ],
          "name": "stderr"
        },
        {
          "output_type": "display_data",
          "data": {
            "image/png": "[encoded data removed]",
            "text/plain": [
              "<Figure size 432x288 with 1 Axes>"
            ]
          },
          "metadata": {
            "tags": [],
            "needs_background": "light"
          }
        }
      ]
    },
    {
      "cell_type": "markdown",
      "metadata": {
        "id": "Uq2oOupU-Jz-"
      },
      "source": [
        "ROC curve for LinearSVC"
      ]
    },
    {
      "cell_type": "code",
      "metadata": {
        "id": "6b_nqN5Wgx0-",
        "colab": {
          "base_uri": "https://localhost:8080/",
          "height": 1000
        },
        "outputId": "821e1cdb-e696-46d0-bfaa-853421051b70"
      },
      "source": [
        "import numpy as np\n",
        "from sklearn.preprocessing import StandardScaler\n",
        "from sklearn.svm import LinearSVC\n",
        "from sklearn.calibration import CalibratedClassifierCV\n",
        "clsvc = CalibratedClassifierCV(cv_svm, cv=5)\n",
        "clsvc.fit(x_train, y_train)\n",
        "y_prob = clsvc.predict_proba(x_test)\n",
        "y_prob_pos = y_prob[:, 1]\n",
        "fpr, tpr, threshold = roc_curve(y_test, y_prob_pos, pos_label='Demented')\n",
        "val = roc_auc_score(y_test, y_prob, multi_class='ovr')\n",
        "plot_roc_curve(fpr,tpr, 'Linear SVC', val)"
      ],
      "execution_count": null,
      "outputs": [
        {
          "output_type": "stream",
          "text": [
            "Fitting 5 folds for each of 1 candidates, totalling 5 fits\n",
            "[CV] C=400, dual=False, loss=squared_hinge, multi_class=ovr, tol=1e-08 \n",
            "[CV]  C=400, dual=False, loss=squared_hinge, multi_class=ovr, tol=1e-08, total=   0.0s\n",
            "[CV] C=400, dual=False, loss=squared_hinge, multi_class=ovr, tol=1e-08 \n",
            "[CV]  C=400, dual=False, loss=squared_hinge, multi_class=ovr, tol=1e-08, total=   0.0s\n",
            "[CV] C=400, dual=False, loss=squared_hinge, multi_class=ovr, tol=1e-08 \n",
            "[CV]  C=400, dual=False, loss=squared_hinge, multi_class=ovr, tol=1e-08, total=   0.0s\n",
            "[CV] C=400, dual=False, loss=squared_hinge, multi_class=ovr, tol=1e-08 \n",
            "[CV]  C=400, dual=False, loss=squared_hinge, multi_class=ovr, tol=1e-08, total=   0.0s\n",
            "[CV] C=400, dual=False, loss=squared_hinge, multi_class=ovr, tol=1e-08 \n",
            "[CV]  C=400, dual=False, loss=squared_hinge, multi_class=ovr, tol=1e-08, total=   0.0s\n",
            "Fitting 5 folds for each of 1 candidates, totalling 5 fits\n",
            "[CV] C=400, dual=False, loss=squared_hinge, multi_class=ovr, tol=1e-08 \n",
            "[CV]  C=400, dual=False, loss=squared_hinge, multi_class=ovr, tol=1e-08, total=   0.0s\n",
            "[CV] C=400, dual=False, loss=squared_hinge, multi_class=ovr, tol=1e-08 \n",
            "[CV]  C=400, dual=False, loss=squared_hinge, multi_class=ovr, tol=1e-08, total=   0.0s\n",
            "[CV] C=400, dual=False, loss=squared_hinge, multi_class=ovr, tol=1e-08 \n",
            "[CV]  C=400, dual=False, loss=squared_hinge, multi_class=ovr, tol=1e-08, total=   0.0s\n",
            "[CV] C=400, dual=False, loss=squared_hinge, multi_class=ovr, tol=1e-08 \n",
            "[CV]  C=400, dual=False, loss=squared_hinge, multi_class=ovr, tol=1e-08, total=   0.0s\n",
            "[CV] C=400, dual=False, loss=squared_hinge, multi_class=ovr, tol=1e-08 \n",
            "[CV]  C=400, dual=False, loss=squared_hinge, multi_class=ovr, tol=1e-08, total=   0.0s\n",
            "Fitting 5 folds for each of 1 candidates, totalling 5 fits\n",
            "[CV] C=400, dual=False, loss=squared_hinge, multi_class=ovr, tol=1e-08 \n",
            "[CV]  C=400, dual=False, loss=squared_hinge, multi_class=ovr, tol=1e-08, total=   0.0s\n",
            "[CV] C=400, dual=False, loss=squared_hinge, multi_class=ovr, tol=1e-08 \n",
            "[CV]  C=400, dual=False, loss=squared_hinge, multi_class=ovr, tol=1e-08, total=   0.0s\n",
            "[CV] C=400, dual=False, loss=squared_hinge, multi_class=ovr, tol=1e-08 \n",
            "[CV]  C=400, dual=False, loss=squared_hinge, multi_class=ovr, tol=1e-08, total=   0.0s\n",
            "[CV] C=400, dual=False, loss=squared_hinge, multi_class=ovr, tol=1e-08 \n",
            "[CV]  C=400, dual=False, loss=squared_hinge, multi_class=ovr, tol=1e-08, total=   0.0s\n",
            "[CV] C=400, dual=False, loss=squared_hinge, multi_class=ovr, tol=1e-08 \n",
            "[CV]  C=400, dual=False, loss=squared_hinge, multi_class=ovr, tol=1e-08, total=   0.0s\n",
            "Fitting 5 folds for each of 1 candidates, totalling 5 fits\n",
            "[CV] C=400, dual=False, loss=squared_hinge, multi_class=ovr, tol=1e-08 \n",
            "[CV]  C=400, dual=False, loss=squared_hinge, multi_class=ovr, tol=1e-08, total=   0.0s\n",
            "[CV] C=400, dual=False, loss=squared_hinge, multi_class=ovr, tol=1e-08 \n",
            "[CV]  C=400, dual=False, loss=squared_hinge, multi_class=ovr, tol=1e-08, total=   0.0s\n",
            "[CV] C=400, dual=False, loss=squared_hinge, multi_class=ovr, tol=1e-08 \n",
            "[CV]  C=400, dual=False, loss=squared_hinge, multi_class=ovr, tol=1e-08, total=   0.0s\n",
            "[CV] C=400, dual=False, loss=squared_hinge, multi_class=ovr, tol=1e-08 \n",
            "[CV]  C=400, dual=False, loss=squared_hinge, multi_class=ovr, tol=1e-08, total=   0.0s\n",
            "[CV] C=400, dual=False, loss=squared_hinge, multi_class=ovr, tol=1e-08 \n",
            "[CV]  C=400, dual=False, loss=squared_hinge, multi_class=ovr, tol=1e-08, total=   0.0s\n",
            "Fitting 5 folds for each of 1 candidates, totalling 5 fits\n",
            "[CV] C=400, dual=False, loss=squared_hinge, multi_class=ovr, tol=1e-08 \n",
            "[CV]  C=400, dual=False, loss=squared_hinge, multi_class=ovr, tol=1e-08, total=   0.0s\n",
            "[CV] C=400, dual=False, loss=squared_hinge, multi_class=ovr, tol=1e-08 \n",
            "[CV]  C=400, dual=False, loss=squared_hinge, multi_class=ovr, tol=1e-08, total=   0.0s\n",
            "[CV] C=400, dual=False, loss=squared_hinge, multi_class=ovr, tol=1e-08 \n",
            "[CV]  C=400, dual=False, loss=squared_hinge, multi_class=ovr, tol=1e-08, total=   0.0s\n",
            "[CV] C=400, dual=False, loss=squared_hinge, multi_class=ovr, tol=1e-08 \n",
            "[CV]  C=400, dual=False, loss=squared_hinge, multi_class=ovr, tol=1e-08, total=   0.0s\n",
            "[CV] C=400, dual=False, loss=squared_hinge, multi_class=ovr, tol=1e-08 \n",
            "[CV]  C=400, dual=False, loss=squared_hinge, multi_class=ovr, tol=1e-08, total=   0.0s\n"
          ],
          "name": "stdout"
        },
        {
          "output_type": "stream",
          "text": [
            "[Parallel(n_jobs=1)]: Using backend SequentialBackend with 1 concurrent workers.\n",
            "[Parallel(n_jobs=1)]: Done   1 out of   1 | elapsed:    0.0s remaining:    0.0s\n",
            "[Parallel(n_jobs=1)]: Done   5 out of   5 | elapsed:    0.0s finished\n",
            "[Parallel(n_jobs=1)]: Using backend SequentialBackend with 1 concurrent workers.\n",
            "[Parallel(n_jobs=1)]: Done   1 out of   1 | elapsed:    0.0s remaining:    0.0s\n",
            "[Parallel(n_jobs=1)]: Done   5 out of   5 | elapsed:    0.0s finished\n",
            "[Parallel(n_jobs=1)]: Using backend SequentialBackend with 1 concurrent workers.\n",
            "[Parallel(n_jobs=1)]: Done   1 out of   1 | elapsed:    0.0s remaining:    0.0s\n",
            "[Parallel(n_jobs=1)]: Done   5 out of   5 | elapsed:    0.0s finished\n",
            "[Parallel(n_jobs=1)]: Using backend SequentialBackend with 1 concurrent workers.\n",
            "[Parallel(n_jobs=1)]: Done   1 out of   1 | elapsed:    0.0s remaining:    0.0s\n",
            "[Parallel(n_jobs=1)]: Done   5 out of   5 | elapsed:    0.0s finished\n",
            "[Parallel(n_jobs=1)]: Using backend SequentialBackend with 1 concurrent workers.\n",
            "[Parallel(n_jobs=1)]: Done   1 out of   1 | elapsed:    0.0s remaining:    0.0s\n",
            "[Parallel(n_jobs=1)]: Done   5 out of   5 | elapsed:    0.0s finished\n"
          ],
          "name": "stderr"
        },
        {
          "output_type": "display_data",
          "data": {
            "image/png": "[encoded data removed]",
            "text/plain": [
              "<Figure size 432x288 with 1 Axes>"
            ]
          },
          "metadata": {
            "tags": [],
            "needs_background": "light"
          }
        }
      ]
    },
    {
      "cell_type": "markdown",
      "metadata": {
        "id": "T9c_9FwB_pCi"
      },
      "source": [
        "Hybrid Model"
      ]
    },
    {
      "cell_type": "code",
      "metadata": {
        "id": "cBe2RWsqmHbj",
        "colab": {
          "base_uri": "https://localhost:8080/"
        },
        "outputId": "554e65a3-00df-4bd8-ab1f-f6452e809e7e"
      },
      "source": [
        "from sklearn.ensemble import VotingClassifier\n",
        "clsvc = CalibratedClassifierCV(cv_svm, cv=5)\n",
        "clsvc.fit(x_train, y_train)\n",
        "model = VotingClassifier(estimators=[('gnb', gnb), ('rf', clf), ('lg', lg), ('svc', clsvc), ('adb', adb)], voting='soft')\n",
        "model.fit(x_train,y_train)\n",
        "hybrid_score = model.score(x_test,y_test)\n",
        "m_pred_y = model.predict(x_test)\n",
        "evaluation_pred(y_test, m_pred_y)\n",
        "hybrid_score"
      ],
      "execution_count": null,
      "outputs": [
        {
          "output_type": "stream",
          "text": [
            "Fitting 5 folds for each of 1 candidates, totalling 5 fits\n",
            "[CV] C=400, dual=False, loss=squared_hinge, multi_class=ovr, tol=1e-08 \n",
            "[CV]  C=400, dual=False, loss=squared_hinge, multi_class=ovr, tol=1e-08, total=   0.0s\n",
            "[CV] C=400, dual=False, loss=squared_hinge, multi_class=ovr, tol=1e-08 \n",
            "[CV]  C=400, dual=False, loss=squared_hinge, multi_class=ovr, tol=1e-08, total=   0.0s\n",
            "[CV] C=400, dual=False, loss=squared_hinge, multi_class=ovr, tol=1e-08 \n",
            "[CV]  C=400, dual=False, loss=squared_hinge, multi_class=ovr, tol=1e-08, total=   0.0s\n",
            "[CV] C=400, dual=False, loss=squared_hinge, multi_class=ovr, tol=1e-08 \n",
            "[CV]  C=400, dual=False, loss=squared_hinge, multi_class=ovr, tol=1e-08, total=   0.0s\n",
            "[CV] C=400, dual=False, loss=squared_hinge, multi_class=ovr, tol=1e-08 \n",
            "[CV]  C=400, dual=False, loss=squared_hinge, multi_class=ovr, tol=1e-08, total=   0.0s\n",
            "Fitting 5 folds for each of 1 candidates, totalling 5 fits\n",
            "[CV] C=400, dual=False, loss=squared_hinge, multi_class=ovr, tol=1e-08 \n",
            "[CV]  C=400, dual=False, loss=squared_hinge, multi_class=ovr, tol=1e-08, total=   0.0s\n",
            "[CV] C=400, dual=False, loss=squared_hinge, multi_class=ovr, tol=1e-08 \n",
            "[CV]  C=400, dual=False, loss=squared_hinge, multi_class=ovr, tol=1e-08, total=   0.0s\n",
            "[CV] C=400, dual=False, loss=squared_hinge, multi_class=ovr, tol=1e-08 \n",
            "[CV]  C=400, dual=False, loss=squared_hinge, multi_class=ovr, tol=1e-08, total=   0.0s\n",
            "[CV] C=400, dual=False, loss=squared_hinge, multi_class=ovr, tol=1e-08 \n",
            "[CV]  C=400, dual=False, loss=squared_hinge, multi_class=ovr, tol=1e-08, total=   0.0s\n",
            "[CV] C=400, dual=False, loss=squared_hinge, multi_class=ovr, tol=1e-08 \n",
            "[CV]  C=400, dual=False, loss=squared_hinge, multi_class=ovr, tol=1e-08, total=   0.0s\n",
            "Fitting 5 folds for each of 1 candidates, totalling 5 fits\n",
            "[CV] C=400, dual=False, loss=squared_hinge, multi_class=ovr, tol=1e-08 \n",
            "[CV]  C=400, dual=False, loss=squared_hinge, multi_class=ovr, tol=1e-08, total=   0.0s\n",
            "[CV] C=400, dual=False, loss=squared_hinge, multi_class=ovr, tol=1e-08 \n",
            "[CV]  C=400, dual=False, loss=squared_hinge, multi_class=ovr, tol=1e-08, total=   0.0s\n",
            "[CV] C=400, dual=False, loss=squared_hinge, multi_class=ovr, tol=1e-08 \n",
            "[CV]  C=400, dual=False, loss=squared_hinge, multi_class=ovr, tol=1e-08, total=   0.0s\n",
            "[CV] C=400, dual=False, loss=squared_hinge, multi_class=ovr, tol=1e-08 \n",
            "[CV]  C=400, dual=False, loss=squared_hinge, multi_class=ovr, tol=1e-08, total=   0.0s\n",
            "[CV] C=400, dual=False, loss=squared_hinge, multi_class=ovr, tol=1e-08 \n",
            "[CV]  C=400, dual=False, loss=squared_hinge, multi_class=ovr, tol=1e-08, total=   0.0s\n",
            "Fitting 5 folds for each of 1 candidates, totalling 5 fits\n",
            "[CV] C=400, dual=False, loss=squared_hinge, multi_class=ovr, tol=1e-08 \n",
            "[CV]  C=400, dual=False, loss=squared_hinge, multi_class=ovr, tol=1e-08, total=   0.0s\n",
            "[CV] C=400, dual=False, loss=squared_hinge, multi_class=ovr, tol=1e-08 \n",
            "[CV]  C=400, dual=False, loss=squared_hinge, multi_class=ovr, tol=1e-08, total=   0.0s\n",
            "[CV] C=400, dual=False, loss=squared_hinge, multi_class=ovr, tol=1e-08 \n",
            "[CV]  C=400, dual=False, loss=squared_hinge, multi_class=ovr, tol=1e-08, total=   0.0s\n",
            "[CV] C=400, dual=False, loss=squared_hinge, multi_class=ovr, tol=1e-08 \n",
            "[CV]  C=400, dual=False, loss=squared_hinge, multi_class=ovr, tol=1e-08, total=   0.0s\n",
            "[CV] C=400, dual=False, loss=squared_hinge, multi_class=ovr, tol=1e-08 \n",
            "[CV]  C=400, dual=False, loss=squared_hinge, multi_class=ovr, tol=1e-08, total=   0.0s\n",
            "Fitting 5 folds for each of 1 candidates, totalling 5 fits\n",
            "[CV] C=400, dual=False, loss=squared_hinge, multi_class=ovr, tol=1e-08 \n",
            "[CV]  C=400, dual=False, loss=squared_hinge, multi_class=ovr, tol=1e-08, total=   0.0s\n",
            "[CV] C=400, dual=False, loss=squared_hinge, multi_class=ovr, tol=1e-08 \n",
            "[CV]  C=400, dual=False, loss=squared_hinge, multi_class=ovr, tol=1e-08, total=   0.0s\n",
            "[CV] C=400, dual=False, loss=squared_hinge, multi_class=ovr, tol=1e-08 \n",
            "[CV]  C=400, dual=False, loss=squared_hinge, multi_class=ovr, tol=1e-08, total=   0.0s\n",
            "[CV] C=400, dual=False, loss=squared_hinge, multi_class=ovr, tol=1e-08 \n",
            "[CV]  C=400, dual=False, loss=squared_hinge, multi_class=ovr, tol=1e-08, total=   0.0s\n",
            "[CV] C=400, dual=False, loss=squared_hinge, multi_class=ovr, tol=1e-08 \n",
            "[CV]  C=400, dual=False, loss=squared_hinge, multi_class=ovr, tol=1e-08, total=   0.0s\n",
            "Fitting 5 folds for each of 1 candidates, totalling 5 fits\n",
            "[CV] C=400, dual=False, loss=squared_hinge, multi_class=ovr, tol=1e-08 \n",
            "[CV]  C=400, dual=False, loss=squared_hinge, multi_class=ovr, tol=1e-08, total=   0.0s\n",
            "[CV] C=400, dual=False, loss=squared_hinge, multi_class=ovr, tol=1e-08 \n",
            "[CV]  C=400, dual=False, loss=squared_hinge, multi_class=ovr, tol=1e-08, total=   0.0s\n",
            "[CV] C=400, dual=False, loss=squared_hinge, multi_class=ovr, tol=1e-08 \n",
            "[CV]  C=400, dual=False, loss=squared_hinge, multi_class=ovr, tol=1e-08, total=   0.0s\n",
            "[CV] C=400, dual=False, loss=squared_hinge, multi_class=ovr, tol=1e-08 \n",
            "[CV]  C=400, dual=False, loss=squared_hinge, multi_class=ovr, tol=1e-08, total=   0.0s\n",
            "[CV] C=400, dual=False, loss=squared_hinge, multi_class=ovr, tol=1e-08 \n",
            "[CV]  C=400, dual=False, loss=squared_hinge, multi_class=ovr, tol=1e-08, total=   0.0s\n"
          ],
          "name": "stdout"
        },
        {
          "output_type": "stream",
          "text": [
            "[Parallel(n_jobs=1)]: Using backend SequentialBackend with 1 concurrent workers.\n",
            "[Parallel(n_jobs=1)]: Done   1 out of   1 | elapsed:    0.0s remaining:    0.0s\n",
            "[Parallel(n_jobs=1)]: Done   5 out of   5 | elapsed:    0.0s finished\n",
            "[Parallel(n_jobs=1)]: Using backend SequentialBackend with 1 concurrent workers.\n",
            "[Parallel(n_jobs=1)]: Done   1 out of   1 | elapsed:    0.0s remaining:    0.0s\n",
            "[Parallel(n_jobs=1)]: Done   5 out of   5 | elapsed:    0.0s finished\n",
            "[Parallel(n_jobs=1)]: Using backend SequentialBackend with 1 concurrent workers.\n",
            "[Parallel(n_jobs=1)]: Done   1 out of   1 | elapsed:    0.0s remaining:    0.0s\n",
            "[Parallel(n_jobs=1)]: Done   5 out of   5 | elapsed:    0.0s finished\n",
            "[Parallel(n_jobs=1)]: Using backend SequentialBackend with 1 concurrent workers.\n",
            "[Parallel(n_jobs=1)]: Done   1 out of   1 | elapsed:    0.0s remaining:    0.0s\n",
            "[Parallel(n_jobs=1)]: Done   5 out of   5 | elapsed:    0.0s finished\n",
            "[Parallel(n_jobs=1)]: Using backend SequentialBackend with 1 concurrent workers.\n",
            "[Parallel(n_jobs=1)]: Done   1 out of   1 | elapsed:    0.0s remaining:    0.0s\n",
            "[Parallel(n_jobs=1)]: Done   5 out of   5 | elapsed:    0.0s finished\n",
            "[Parallel(n_jobs=1)]: Using backend SequentialBackend with 1 concurrent workers.\n",
            "[Parallel(n_jobs=1)]: Done   1 out of   1 | elapsed:    0.0s remaining:    0.0s\n",
            "[Parallel(n_jobs=1)]: Done   5 out of   5 | elapsed:    0.0s finished\n"
          ],
          "name": "stderr"
        },
        {
          "output_type": "stream",
          "text": [
            "Fitting 5 folds for each of 1 candidates, totalling 5 fits\n",
            "[CV] C=400, dual=False, loss=squared_hinge, multi_class=ovr, tol=1e-08 \n",
            "[CV]  C=400, dual=False, loss=squared_hinge, multi_class=ovr, tol=1e-08, total=   0.0s\n",
            "[CV] C=400, dual=False, loss=squared_hinge, multi_class=ovr, tol=1e-08 \n",
            "[CV]  C=400, dual=False, loss=squared_hinge, multi_class=ovr, tol=1e-08, total=   0.0s\n",
            "[CV] C=400, dual=False, loss=squared_hinge, multi_class=ovr, tol=1e-08 \n",
            "[CV]  C=400, dual=False, loss=squared_hinge, multi_class=ovr, tol=1e-08, total=   0.0s\n",
            "[CV] C=400, dual=False, loss=squared_hinge, multi_class=ovr, tol=1e-08 \n",
            "[CV]  C=400, dual=False, loss=squared_hinge, multi_class=ovr, tol=1e-08, total=   0.0s\n",
            "[CV] C=400, dual=False, loss=squared_hinge, multi_class=ovr, tol=1e-08 \n",
            "[CV]  C=400, dual=False, loss=squared_hinge, multi_class=ovr, tol=1e-08, total=   0.0s\n",
            "Fitting 5 folds for each of 1 candidates, totalling 5 fits\n",
            "[CV] C=400, dual=False, loss=squared_hinge, multi_class=ovr, tol=1e-08 \n",
            "[CV]  C=400, dual=False, loss=squared_hinge, multi_class=ovr, tol=1e-08, total=   0.0s\n",
            "[CV] C=400, dual=False, loss=squared_hinge, multi_class=ovr, tol=1e-08 \n",
            "[CV]  C=400, dual=False, loss=squared_hinge, multi_class=ovr, tol=1e-08, total=   0.0s\n",
            "[CV] C=400, dual=False, loss=squared_hinge, multi_class=ovr, tol=1e-08 \n",
            "[CV]  C=400, dual=False, loss=squared_hinge, multi_class=ovr, tol=1e-08, total=   0.0s\n",
            "[CV] C=400, dual=False, loss=squared_hinge, multi_class=ovr, tol=1e-08 \n",
            "[CV]  C=400, dual=False, loss=squared_hinge, multi_class=ovr, tol=1e-08, total=   0.0s\n",
            "[CV] C=400, dual=False, loss=squared_hinge, multi_class=ovr, tol=1e-08 \n",
            "[CV]  C=400, dual=False, loss=squared_hinge, multi_class=ovr, tol=1e-08, total=   0.0s\n",
            "Fitting 5 folds for each of 1 candidates, totalling 5 fits\n",
            "[CV] C=400, dual=False, loss=squared_hinge, multi_class=ovr, tol=1e-08 \n",
            "[CV]  C=400, dual=False, loss=squared_hinge, multi_class=ovr, tol=1e-08, total=   0.0s\n",
            "[CV] C=400, dual=False, loss=squared_hinge, multi_class=ovr, tol=1e-08 \n",
            "[CV]  C=400, dual=False, loss=squared_hinge, multi_class=ovr, tol=1e-08, total=   0.0s\n",
            "[CV] C=400, dual=False, loss=squared_hinge, multi_class=ovr, tol=1e-08 \n",
            "[CV]  C=400, dual=False, loss=squared_hinge, multi_class=ovr, tol=1e-08, total=   0.0s\n",
            "[CV] C=400, dual=False, loss=squared_hinge, multi_class=ovr, tol=1e-08 \n",
            "[CV]  C=400, dual=False, loss=squared_hinge, multi_class=ovr, tol=1e-08, total=   0.0s\n",
            "[CV] C=400, dual=False, loss=squared_hinge, multi_class=ovr, tol=1e-08 \n",
            "[CV]  C=400, dual=False, loss=squared_hinge, multi_class=ovr, tol=1e-08, total=   0.0s\n",
            "Fitting 5 folds for each of 1 candidates, totalling 5 fits\n",
            "[CV] C=400, dual=False, loss=squared_hinge, multi_class=ovr, tol=1e-08 \n",
            "[CV]  C=400, dual=False, loss=squared_hinge, multi_class=ovr, tol=1e-08, total=   0.0s\n",
            "[CV] C=400, dual=False, loss=squared_hinge, multi_class=ovr, tol=1e-08 \n",
            "[CV]  C=400, dual=False, loss=squared_hinge, multi_class=ovr, tol=1e-08, total=   0.0s\n",
            "[CV] C=400, dual=False, loss=squared_hinge, multi_class=ovr, tol=1e-08 \n",
            "[CV]  C=400, dual=False, loss=squared_hinge, multi_class=ovr, tol=1e-08, total=   0.0s\n",
            "[CV] C=400, dual=False, loss=squared_hinge, multi_class=ovr, tol=1e-08 \n",
            "[CV]  C=400, dual=False, loss=squared_hinge, multi_class=ovr, tol=1e-08, total=   0.0s\n",
            "[CV] C=400, dual=False, loss=squared_hinge, multi_class=ovr, tol=1e-08 \n",
            "[CV]  C=400, dual=False, loss=squared_hinge, multi_class=ovr, tol=1e-08, total=   0.0s\n"
          ],
          "name": "stdout"
        },
        {
          "output_type": "stream",
          "text": [
            "[Parallel(n_jobs=1)]: Using backend SequentialBackend with 1 concurrent workers.\n",
            "[Parallel(n_jobs=1)]: Done   1 out of   1 | elapsed:    0.0s remaining:    0.0s\n",
            "[Parallel(n_jobs=1)]: Done   5 out of   5 | elapsed:    0.0s finished\n",
            "[Parallel(n_jobs=1)]: Using backend SequentialBackend with 1 concurrent workers.\n",
            "[Parallel(n_jobs=1)]: Done   1 out of   1 | elapsed:    0.0s remaining:    0.0s\n",
            "[Parallel(n_jobs=1)]: Done   5 out of   5 | elapsed:    0.0s finished\n",
            "[Parallel(n_jobs=1)]: Using backend SequentialBackend with 1 concurrent workers.\n",
            "[Parallel(n_jobs=1)]: Done   1 out of   1 | elapsed:    0.0s remaining:    0.0s\n",
            "[Parallel(n_jobs=1)]: Done   5 out of   5 | elapsed:    0.0s finished\n",
            "[Parallel(n_jobs=1)]: Using backend SequentialBackend with 1 concurrent workers.\n",
            "[Parallel(n_jobs=1)]: Done   1 out of   1 | elapsed:    0.0s remaining:    0.0s\n",
            "[Parallel(n_jobs=1)]: Done   5 out of   5 | elapsed:    0.0s finished\n"
          ],
          "name": "stderr"
        },
        {
          "output_type": "stream",
          "text": [
            "accuracy: 92.96%\n",
            "percision 0.93\n",
            "recall 0.93\n",
            "f1: 0.93\n"
          ],
          "name": "stdout"
        },
        {
          "output_type": "stream",
          "text": [
            "/usr/local/lib/python3.7/dist-packages/sklearn/metrics/_classification.py:1321: UserWarning: Note that pos_label (set to 'positive') is ignored when average != 'binary' (got 'micro'). You may use labels=[pos_label] to specify a single positive class.\n",
            "  % (pos_label, average), UserWarning)\n"
          ],
          "name": "stderr"
        },
        {
          "output_type": "execute_result",
          "data": {
            "text/plain": [
              "0.9295774647887324"
            ]
          },
          "metadata": {
            "tags": []
          },
          "execution_count": 88
        }
      ]
    },
    {
      "cell_type": "code",
      "metadata": {
        "id": "081IzBn0ATUy"
      },
      "source": [
        "import seaborn as sns\n",
        "def plot_conf_mat(y_test, y_pred_lr):\n",
        "  fig, ax = plt.subplots(figsize=(3,3))\n",
        "  ax = sns.heatmap(confusion_matrix(y_test, y_pred_lr),\n",
        "                   annot=True,\n",
        "                   cbar=False)\n",
        "  plt.xlabel(\"True Label\")\n",
        "  plt.ylabel(\"Predicted label\")"
      ],
      "execution_count": null,
      "outputs": []
    },
    {
      "cell_type": "code",
      "metadata": {
        "colab": {
          "base_uri": "https://localhost:8080/",
          "height": 225
        },
        "id": "K7-RphoOAZrS",
        "outputId": "30c43857-f0b8-4053-9003-b7b50e43caaa"
      },
      "source": [
        "plot_conf_mat(y_test, m_pred_y)"
      ],
      "execution_count": null,
      "outputs": [
        {
          "output_type": "display_data",
          "data": {
            "image/png": "[encoded data removed]",
            "text/plain": [
              "<Figure size 216x216 with 1 Axes>"
            ]
          },
          "metadata": {
            "tags": [],
            "needs_background": "light"
          }
        }
      ]
    },
    {
      "cell_type": "markdown",
      "metadata": {
        "id": "63dNzSau_rgu"
      },
      "source": [
        "ROC curve of our hybrid model"
      ]
    },
    {
      "cell_type": "code",
      "metadata": {
        "id": "ur1ZTO32Ps2F",
        "colab": {
          "base_uri": "https://localhost:8080/",
          "height": 1000
        },
        "outputId": "c9a756de-adcd-4c5f-ff57-234810c5f9fc"
      },
      "source": [
        "model.fit(x_train, y_train)\n",
        "y_prob = model.predict_proba(x_test)\n",
        "y_prob_pos = y_prob[:, 1]\n",
        "fpr, tpr, threshold = roc_curve(y_test, y_prob_pos, pos_label='Demented')\n",
        "val = roc_auc_score(y_test, y_prob, multi_class='ovr')\n",
        "plot_roc_curve(fpr,tpr, 'Hybrid', val)"
      ],
      "execution_count": null,
      "outputs": [
        {
          "output_type": "stream",
          "text": [
            "Fitting 5 folds for each of 1 candidates, totalling 5 fits\n",
            "[CV] C=400, dual=False, loss=squared_hinge, multi_class=ovr, tol=1e-08 \n",
            "[CV]  C=400, dual=False, loss=squared_hinge, multi_class=ovr, tol=1e-08, total=   0.0s\n",
            "[CV] C=400, dual=False, loss=squared_hinge, multi_class=ovr, tol=1e-08 \n",
            "[CV]  C=400, dual=False, loss=squared_hinge, multi_class=ovr, tol=1e-08, total=   0.0s\n",
            "[CV] C=400, dual=False, loss=squared_hinge, multi_class=ovr, tol=1e-08 \n",
            "[CV]  C=400, dual=False, loss=squared_hinge, multi_class=ovr, tol=1e-08, total=   0.0s\n",
            "[CV] C=400, dual=False, loss=squared_hinge, multi_class=ovr, tol=1e-08 \n",
            "[CV]  C=400, dual=False, loss=squared_hinge, multi_class=ovr, tol=1e-08, total=   0.0s\n",
            "[CV] C=400, dual=False, loss=squared_hinge, multi_class=ovr, tol=1e-08 \n",
            "[CV]  C=400, dual=False, loss=squared_hinge, multi_class=ovr, tol=1e-08, total=   0.0s\n",
            "Fitting 5 folds for each of 1 candidates, totalling 5 fits\n",
            "[CV] C=400, dual=False, loss=squared_hinge, multi_class=ovr, tol=1e-08 \n",
            "[CV]  C=400, dual=False, loss=squared_hinge, multi_class=ovr, tol=1e-08, total=   0.0s\n",
            "[CV] C=400, dual=False, loss=squared_hinge, multi_class=ovr, tol=1e-08 \n",
            "[CV]  C=400, dual=False, loss=squared_hinge, multi_class=ovr, tol=1e-08, total=   0.0s\n",
            "[CV] C=400, dual=False, loss=squared_hinge, multi_class=ovr, tol=1e-08 \n",
            "[CV]  C=400, dual=False, loss=squared_hinge, multi_class=ovr, tol=1e-08, total=   0.0s\n",
            "[CV] C=400, dual=False, loss=squared_hinge, multi_class=ovr, tol=1e-08 \n",
            "[CV]  C=400, dual=False, loss=squared_hinge, multi_class=ovr, tol=1e-08, total=   0.0s\n",
            "[CV] C=400, dual=False, loss=squared_hinge, multi_class=ovr, tol=1e-08 \n",
            "[CV]  C=400, dual=False, loss=squared_hinge, multi_class=ovr, tol=1e-08, total=   0.0s\n",
            "Fitting 5 folds for each of 1 candidates, totalling 5 fits\n",
            "[CV] C=400, dual=False, loss=squared_hinge, multi_class=ovr, tol=1e-08 \n",
            "[CV]  C=400, dual=False, loss=squared_hinge, multi_class=ovr, tol=1e-08, total=   0.0s\n",
            "[CV] C=400, dual=False, loss=squared_hinge, multi_class=ovr, tol=1e-08 \n",
            "[CV]  C=400, dual=False, loss=squared_hinge, multi_class=ovr, tol=1e-08, total=   0.0s\n",
            "[CV] C=400, dual=False, loss=squared_hinge, multi_class=ovr, tol=1e-08 \n",
            "[CV]  C=400, dual=False, loss=squared_hinge, multi_class=ovr, tol=1e-08, total=   0.0s\n",
            "[CV] C=400, dual=False, loss=squared_hinge, multi_class=ovr, tol=1e-08 \n",
            "[CV]  C=400, dual=False, loss=squared_hinge, multi_class=ovr, tol=1e-08, total=   0.0s\n",
            "[CV] C=400, dual=False, loss=squared_hinge, multi_class=ovr, tol=1e-08 \n",
            "[CV]  C=400, dual=False, loss=squared_hinge, multi_class=ovr, tol=1e-08, total=   0.0s\n",
            "Fitting 5 folds for each of 1 candidates, totalling 5 fits\n",
            "[CV] C=400, dual=False, loss=squared_hinge, multi_class=ovr, tol=1e-08 \n",
            "[CV]  C=400, dual=False, loss=squared_hinge, multi_class=ovr, tol=1e-08, total=   0.0s\n",
            "[CV] C=400, dual=False, loss=squared_hinge, multi_class=ovr, tol=1e-08 \n",
            "[CV]  C=400, dual=False, loss=squared_hinge, multi_class=ovr, tol=1e-08, total=   0.0s\n",
            "[CV] C=400, dual=False, loss=squared_hinge, multi_class=ovr, tol=1e-08 \n",
            "[CV]  C=400, dual=False, loss=squared_hinge, multi_class=ovr, tol=1e-08, total=   0.0s\n",
            "[CV] C=400, dual=False, loss=squared_hinge, multi_class=ovr, tol=1e-08 \n",
            "[CV]  C=400, dual=False, loss=squared_hinge, multi_class=ovr, tol=1e-08, total=   0.0s\n",
            "[CV] C=400, dual=False, loss=squared_hinge, multi_class=ovr, tol=1e-08 \n",
            "[CV]  C=400, dual=False, loss=squared_hinge, multi_class=ovr, tol=1e-08, total=   0.0s\n",
            "Fitting 5 folds for each of 1 candidates, totalling 5 fits\n",
            "[CV] C=400, dual=False, loss=squared_hinge, multi_class=ovr, tol=1e-08 \n",
            "[CV]  C=400, dual=False, loss=squared_hinge, multi_class=ovr, tol=1e-08, total=   0.0s\n",
            "[CV] C=400, dual=False, loss=squared_hinge, multi_class=ovr, tol=1e-08 \n",
            "[CV]  C=400, dual=False, loss=squared_hinge, multi_class=ovr, tol=1e-08, total=   0.0s\n",
            "[CV] C=400, dual=False, loss=squared_hinge, multi_class=ovr, tol=1e-08 \n",
            "[CV]  C=400, dual=False, loss=squared_hinge, multi_class=ovr, tol=1e-08, total=   0.0s\n",
            "[CV] C=400, dual=False, loss=squared_hinge, multi_class=ovr, tol=1e-08 \n",
            "[CV]  C=400, dual=False, loss=squared_hinge, multi_class=ovr, tol=1e-08, total=   0.0s\n",
            "[CV] C=400, dual=False, loss=squared_hinge, multi_class=ovr, tol=1e-08 \n",
            "[CV]  C=400, dual=False, loss=squared_hinge, multi_class=ovr, tol=1e-08, total=   0.0s\n"
          ],
          "name": "stdout"
        },
        {
          "output_type": "stream",
          "text": [
            "[Parallel(n_jobs=1)]: Using backend SequentialBackend with 1 concurrent workers.\n",
            "[Parallel(n_jobs=1)]: Done   1 out of   1 | elapsed:    0.0s remaining:    0.0s\n",
            "[Parallel(n_jobs=1)]: Done   5 out of   5 | elapsed:    0.0s finished\n",
            "[Parallel(n_jobs=1)]: Using backend SequentialBackend with 1 concurrent workers.\n",
            "[Parallel(n_jobs=1)]: Done   1 out of   1 | elapsed:    0.0s remaining:    0.0s\n",
            "[Parallel(n_jobs=1)]: Done   5 out of   5 | elapsed:    0.0s finished\n",
            "[Parallel(n_jobs=1)]: Using backend SequentialBackend with 1 concurrent workers.\n",
            "[Parallel(n_jobs=1)]: Done   1 out of   1 | elapsed:    0.0s remaining:    0.0s\n",
            "[Parallel(n_jobs=1)]: Done   5 out of   5 | elapsed:    0.0s finished\n",
            "[Parallel(n_jobs=1)]: Using backend SequentialBackend with 1 concurrent workers.\n",
            "[Parallel(n_jobs=1)]: Done   1 out of   1 | elapsed:    0.0s remaining:    0.0s\n",
            "[Parallel(n_jobs=1)]: Done   5 out of   5 | elapsed:    0.0s finished\n",
            "[Parallel(n_jobs=1)]: Using backend SequentialBackend with 1 concurrent workers.\n",
            "[Parallel(n_jobs=1)]: Done   1 out of   1 | elapsed:    0.0s remaining:    0.0s\n",
            "[Parallel(n_jobs=1)]: Done   5 out of   5 | elapsed:    0.0s finished\n"
          ],
          "name": "stderr"
        },
        {
          "output_type": "display_data",
          "data": {
            "image/png": "[encoded data removed]",
            "text/plain": [
              "<Figure size 432x288 with 1 Axes>"
            ]
          },
          "metadata": {
            "tags": [],
            "needs_background": "light"
          }
        }
      ]
    },
    {
      "cell_type": "markdown",
      "metadata": {
        "id": "rrUHPPOi_vFE"
      },
      "source": [
        "compare all the models"
      ]
    },
    {
      "cell_type": "code",
      "metadata": {
        "id": "-Gluizzky5K9",
        "colab": {
          "base_uri": "https://localhost:8080/",
          "height": 282
        },
        "outputId": "550569c5-7afb-4c7b-f6bb-27759fd3a7ad"
      },
      "source": [
        "model_scores['hybrid'] = hybrid_score\n",
        "model_compare = pd.DataFrame(model_scores, index=['accuracy'])\n",
        "model_compare.T.plot(kind='barh')"
      ],
      "execution_count": null,
      "outputs": [
        {
          "output_type": "execute_result",
          "data": {
            "text/plain": [
              "<matplotlib.axes._subplots.AxesSubplot at 0x7fd700270a10>"
            ]
          },
          "metadata": {
            "tags": []
          },
          "execution_count": 92
        },
        {
          "output_type": "display_data",
          "data": {
            "image/png": "[encoded data removed]",
            "text/plain": [
              "<Figure size 432x288 with 1 Axes>"
            ]
          },
          "metadata": {
            "tags": [],
            "needs_background": "light"
          }
        }
      ]
    },
    {
      "cell_type": "markdown",
      "metadata": {
        "id": "8h3-jeSJbUB4"
      },
      "source": [
        "```\n",
        "models = {\n",
        "    \"Random Forest\": RandomForestClassifier( criterion= 'gini',\n",
        "                  max_depth= 5,\n",
        "                  max_features= 'auto',\n",
        "                  min_samples_leaf= 2,\n",
        "                  min_samples_split= 2,\n",
        "                  n_estimators= 10),\n",
        "    \"GaussianNB\": GaussianNB(priors= None, var_smoothing= 1e-08),\n",
        "    \"Linear SVC\": LinearSVC(C= 500,\n",
        "                dual= False,\n",
        "                loss= 'squared_hinge',\n",
        "                multi_class= 'ovr',\n",
        "                tol= 1e-08),\n",
        "    \"K Neighbours Classifier\": KNeighborsClassifier(),\n",
        "    \"Logistic Regression\": LogisticRegression(C= 225,\n",
        "                      class_weight= 'balanced',\n",
        "                      fit_intercept= True,\n",
        "                      penalty= 'l2',\n",
        "                      solver= 'liblinear',\n",
        "                      tol= 1e-06),\n",
        "    \"Ada Boost\": AdaBoostClassifier(algorithm = 'SAMME',\n",
        "                                    base_estimator =  RandomForestClassifier( criterion= 'gini',\n",
        "                                    max_depth= 5,\n",
        "                                    max_features= 'auto',\n",
        "                                    min_samples_leaf= 2,\n",
        "                                    min_samples_split= 2,\n",
        "                                    n_estimators= 10),\n",
        "                        n_estimators = 1200)\n",
        "}\n",
        "```\n",
        "\n"
      ]
    }
  ]
}